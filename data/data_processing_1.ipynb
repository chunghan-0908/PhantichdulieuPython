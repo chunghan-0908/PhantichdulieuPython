{
 "cells": [
  {
   "cell_type": "markdown",
   "id": "dee5a643-3e30-461b-b791-e80e4fc5d16a",
   "metadata": {},
   "source": [
    "# Bài toán \"Start Date to End Date\""
   ]
  },
  {
   "cell_type": "markdown",
   "id": "246c72c9-9259-4f4c-ac5c-eac8a0a9d4f4",
   "metadata": {},
   "source": [
    "## Vấn đề của bài toán"
   ]
  },
  {
   "cell_type": "markdown",
   "id": "855538ff-5a59-4861-beda-82bdee713395",
   "metadata": {},
   "source": [
    "Cần phải tính toán tại **1 thời điểm cụ thể** *(năm, tháng, ngày, giờ,... nào đó)* có bao nhiêu người/vật có mặt."
   ]
  },
  {
   "cell_type": "markdown",
   "id": "5f0d4d6e-ada2-40c3-a721-3f96396c3e28",
   "metadata": {},
   "source": [
    "VD: \n",
    "- Vào ngày xx/xx/xxxx có bao nhiêu sản phẩm đang lưu kho (lưu ý mỗi sản phẩm có thời gian lưu kho và xuất kho khác nhau)?\n",
    "- Vào ngày xx/xx/xxxx có bao nhiêu nhân viên đang được chỉ định vào làm việc cho một dự án nào đó?"
   ]
  },
  {
   "cell_type": "markdown",
   "id": "c60b5a4f-a5fb-4659-93c8-d0e53336b675",
   "metadata": {},
   "source": [
    "Tuy nhiên, khoảng thời gian từ **ngày bắt đầu** đến **ngày kết thúc** của mỗi người/vật là khác nhau."
   ]
  },
  {
   "cell_type": "code",
   "execution_count": 4,
   "id": "f3262a58-897a-4ebb-99bd-50968c087265",
   "metadata": {},
   "outputs": [],
   "source": [
    "import numpy as np\n",
    "import pandas as pd\n",
    "import re"
   ]
  },
  {
   "cell_type": "code",
   "execution_count": 5,
   "id": "11d19163-5d02-497e-b70c-f74c0f760777",
   "metadata": {},
   "outputs": [],
   "source": [
    "# Get data path & data name\n",
    "data_path = 'D:\\\\DA\\\\PhantichdulieuPython\\\\data\\\\'\n",
    "data_name = 'erd_demo.xlsx'"
   ]
  },
  {
   "cell_type": "code",
   "execution_count": 6,
   "id": "57f22246-9c1a-4da6-b361-f41b9f5358a0",
   "metadata": {},
   "outputs": [],
   "source": [
    "allocated_sheet_name = 'allocated'\n",
    "employee_sheet_name = 'emp_info'\n",
    "customer_sheet_name = 'cus_info'"
   ]
  },
  {
   "cell_type": "code",
   "execution_count": 37,
   "id": "cc3d02e8-98dc-43f9-9a41-638a8f8cfcc4",
   "metadata": {},
   "outputs": [
    {
     "data": {
      "text/html": [
       "<div>\n",
       "<style scoped>\n",
       "    .dataframe tbody tr th:only-of-type {\n",
       "        vertical-align: middle;\n",
       "    }\n",
       "\n",
       "    .dataframe tbody tr th {\n",
       "        vertical-align: top;\n",
       "    }\n",
       "\n",
       "    .dataframe thead th {\n",
       "        text-align: right;\n",
       "    }\n",
       "</style>\n",
       "<table border=\"1\" class=\"dataframe\">\n",
       "  <thead>\n",
       "    <tr style=\"text-align: right;\">\n",
       "      <th></th>\n",
       "      <th>emp_id</th>\n",
       "      <th>allocated_from</th>\n",
       "      <th>allocated_to</th>\n",
       "      <th>customer_code</th>\n",
       "    </tr>\n",
       "  </thead>\n",
       "  <tbody>\n",
       "    <tr>\n",
       "      <th>0</th>\n",
       "      <td>ductt</td>\n",
       "      <td>2023-02-15</td>\n",
       "      <td>2023-04-30</td>\n",
       "      <td>git</td>\n",
       "    </tr>\n",
       "    <tr>\n",
       "      <th>1</th>\n",
       "      <td>manhdt1</td>\n",
       "      <td>2023-02-01</td>\n",
       "      <td>2023-07-04</td>\n",
       "      <td>sld</td>\n",
       "    </tr>\n",
       "    <tr>\n",
       "      <th>2</th>\n",
       "      <td>khoand26</td>\n",
       "      <td>2023-04-12</td>\n",
       "      <td>2023-04-30</td>\n",
       "      <td>sld</td>\n",
       "    </tr>\n",
       "    <tr>\n",
       "      <th>3</th>\n",
       "      <td>lanntt</td>\n",
       "      <td>2023-03-15</td>\n",
       "      <td>2023-06-15</td>\n",
       "      <td>git</td>\n",
       "    </tr>\n",
       "    <tr>\n",
       "      <th>4</th>\n",
       "      <td>anhntt21</td>\n",
       "      <td>2023-07-01</td>\n",
       "      <td>2023-09-30</td>\n",
       "      <td>bii</td>\n",
       "    </tr>\n",
       "  </tbody>\n",
       "</table>\n",
       "</div>"
      ],
      "text/plain": [
       "     emp_id allocated_from allocated_to customer_code\n",
       "0     ductt     2023-02-15   2023-04-30           git\n",
       "1   manhdt1     2023-02-01   2023-07-04           sld\n",
       "2  khoand26     2023-04-12   2023-04-30           sld\n",
       "3    lanntt     2023-03-15   2023-06-15           git\n",
       "4  anhntt21     2023-07-01   2023-09-30           bii"
      ]
     },
     "execution_count": 37,
     "metadata": {},
     "output_type": "execute_result"
    }
   ],
   "source": [
    "# Load allocated data to Pandas object\n",
    "allc = pd.read_excel(data_path + data_name\n",
    "                     ,sheet_name = allocated_sheet_name)\n",
    "allc.head()"
   ]
  },
  {
   "cell_type": "markdown",
   "id": "382bd338-8033-41bb-90d4-68f9b1c6c85c",
   "metadata": {},
   "source": [
    "Như ví dụ này, mỗi nhân viên được chỉ định làm việc cho một khách hàng cụ thể từ ngày bao nhiêu tới ngày bao nhiêu."
   ]
  },
  {
   "cell_type": "markdown",
   "id": "9aeadfca-deeb-45e8-8b02-911d570612c2",
   "metadata": {},
   "source": [
    "Do đó trong cùng 1 ngày, có các trường hợp sau đây:\n",
    "1. Không có nhân viên nào đang được chỉ định\n",
    "2. Có 1 nhân viên đang được chỉ định làm việc cho 1 khách hàng cụ thể\n",
    "3. Có nhiều nhân viên đang được chỉ định làm việc cho nhiều khách hàng khác nhau"
   ]
  },
  {
   "cell_type": "markdown",
   "id": "fc39dc5d-739f-4892-bd1d-fa6ebf5667b9",
   "metadata": {},
   "source": [
    "Trường hợp 2 và 3 được gom lại thành 1 nhóm (1 hoặc nhiều). Và chúng ta chỉ đang có data của nhóm này thôi.\n",
    "Do đó, việc cần làm lúc này là tạo ra 1 list các ngày từ đầu năm đến cuối năm, và trong đó phân biệt rõ ngày nào ở trường hợp 1, ngày nào ở trường hợp 2 và 3."
   ]
  },
  {
   "attachments": {
    "image.png": {
     "image/png": "[encoded data removed]"
    }
   },
   "cell_type": "markdown",
   "id": "c7a6f311",
   "metadata": {},
   "source": [
    "Kiểm tra values duplicate\n",
    "![image.png](attachment:image.png)"
   ]
  },
  {
   "attachments": {
    "image.png": {
     "image/png": "[encoded data removed]"
    }
   },
   "cell_type": "markdown",
   "id": "87e400ed",
   "metadata": {},
   "source": [
    "![image.png](attachment:image.png)"
   ]
  },
  {
   "cell_type": "code",
   "execution_count": 38,
   "id": "4a9475aa",
   "metadata": {
    "scrolled": true
   },
   "outputs": [
    {
     "data": {
      "text/plain": [
       "emp_id\n",
       "longtt      275\n",
       "manhdt1     154\n",
       "lanntt       93\n",
       "anhntt21     92\n",
       "ductt        75\n",
       "lamd6        61\n",
       "hoattt       61\n",
       "nhansm3      30\n",
       "khoand26     19\n",
       "Name: count, dtype: int64"
      ]
     },
     "execution_count": 38,
     "metadata": {},
     "output_type": "execute_result"
    }
   ],
   "source": [
    "not_allc['emp_id'].value_counts()"
   ]
  },
  {
   "cell_type": "code",
   "execution_count": 39,
   "id": "a4d15306",
   "metadata": {},
   "outputs": [
    {
     "data": {
      "text/plain": [
       "emp_id\n",
       "anhntt21     92\n",
       "ductt        75\n",
       "hoattt       61\n",
       "khoand26     19\n",
       "lamd6        61\n",
       "lanntt       93\n",
       "longtt      275\n",
       "manhdt1     154\n",
       "nhansm3      30\n",
       "Name: emp_id, dtype: int64"
      ]
     },
     "execution_count": 39,
     "metadata": {},
     "output_type": "execute_result"
    }
   ],
   "source": [
    "not_allc.groupby(['emp_id'])['emp_id'].count()"
   ]
  },
  {
   "cell_type": "code",
   "execution_count": 40,
   "id": "c39cefde-ca06-4d3f-9c2c-245ed37704b4",
   "metadata": {},
   "outputs": [
    {
     "data": {
      "text/html": [
       "<div>\n",
       "<style scoped>\n",
       "    .dataframe tbody tr th:only-of-type {\n",
       "        vertical-align: middle;\n",
       "    }\n",
       "\n",
       "    .dataframe tbody tr th {\n",
       "        vertical-align: top;\n",
       "    }\n",
       "\n",
       "    .dataframe thead th {\n",
       "        text-align: right;\n",
       "    }\n",
       "</style>\n",
       "<table border=\"1\" class=\"dataframe\">\n",
       "  <thead>\n",
       "    <tr style=\"text-align: right;\">\n",
       "      <th></th>\n",
       "      <th>emp_id</th>\n",
       "    </tr>\n",
       "  </thead>\n",
       "  <tbody>\n",
       "    <tr>\n",
       "      <th>0</th>\n",
       "      <td>ductt</td>\n",
       "    </tr>\n",
       "    <tr>\n",
       "      <th>1</th>\n",
       "      <td>manhdt1</td>\n",
       "    </tr>\n",
       "    <tr>\n",
       "      <th>2</th>\n",
       "      <td>khoand26</td>\n",
       "    </tr>\n",
       "    <tr>\n",
       "      <th>3</th>\n",
       "      <td>lanntt</td>\n",
       "    </tr>\n",
       "    <tr>\n",
       "      <th>4</th>\n",
       "      <td>anhntt21</td>\n",
       "    </tr>\n",
       "  </tbody>\n",
       "</table>\n",
       "</div>"
      ],
      "text/plain": [
       "     emp_id\n",
       "0     ductt\n",
       "1   manhdt1\n",
       "2  khoand26\n",
       "3    lanntt\n",
       "4  anhntt21"
      ]
     },
     "execution_count": 40,
     "metadata": {},
     "output_type": "execute_result"
    }
   ],
   "source": [
    "not_allc = allc.loc[:,['emp_id']]\n",
    "not_allc.head()"
   ]
  },
  {
   "cell_type": "code",
   "execution_count": 41,
   "id": "99f13763",
   "metadata": {},
   "outputs": [
    {
     "data": {
      "text/html": [
       "<div>\n",
       "<style scoped>\n",
       "    .dataframe tbody tr th:only-of-type {\n",
       "        vertical-align: middle;\n",
       "    }\n",
       "\n",
       "    .dataframe tbody tr th {\n",
       "        vertical-align: top;\n",
       "    }\n",
       "\n",
       "    .dataframe thead th {\n",
       "        text-align: right;\n",
       "    }\n",
       "</style>\n",
       "<table border=\"1\" class=\"dataframe\">\n",
       "  <thead>\n",
       "    <tr style=\"text-align: right;\">\n",
       "      <th></th>\n",
       "      <th>emp_id</th>\n",
       "    </tr>\n",
       "  </thead>\n",
       "  <tbody>\n",
       "    <tr>\n",
       "      <th>0</th>\n",
       "      <td>ductt</td>\n",
       "    </tr>\n",
       "    <tr>\n",
       "      <th>1</th>\n",
       "      <td>manhdt1</td>\n",
       "    </tr>\n",
       "    <tr>\n",
       "      <th>2</th>\n",
       "      <td>khoand26</td>\n",
       "    </tr>\n",
       "    <tr>\n",
       "      <th>3</th>\n",
       "      <td>lanntt</td>\n",
       "    </tr>\n",
       "    <tr>\n",
       "      <th>4</th>\n",
       "      <td>anhntt21</td>\n",
       "    </tr>\n",
       "    <tr>\n",
       "      <th>5</th>\n",
       "      <td>nhansm3</td>\n",
       "    </tr>\n",
       "    <tr>\n",
       "      <th>6</th>\n",
       "      <td>longtt</td>\n",
       "    </tr>\n",
       "    <tr>\n",
       "      <th>7</th>\n",
       "      <td>lamd6</td>\n",
       "    </tr>\n",
       "    <tr>\n",
       "      <th>8</th>\n",
       "      <td>hoattt</td>\n",
       "    </tr>\n",
       "  </tbody>\n",
       "</table>\n",
       "</div>"
      ],
      "text/plain": [
       "     emp_id\n",
       "0     ductt\n",
       "1   manhdt1\n",
       "2  khoand26\n",
       "3    lanntt\n",
       "4  anhntt21\n",
       "5   nhansm3\n",
       "6    longtt\n",
       "7     lamd6\n",
       "8    hoattt"
      ]
     },
     "execution_count": 41,
     "metadata": {},
     "output_type": "execute_result"
    }
   ],
   "source": [
    "not_allc.drop_duplicates(inplace = True) #drop những giá trị trùng\n",
    "\n",
    "#hoặc not_allc = not_allc.drop_duplicates(inplace = True)\n",
    "not_allc"
   ]
  },
  {
   "cell_type": "code",
   "execution_count": 42,
   "id": "40c67260",
   "metadata": {
    "scrolled": true
   },
   "outputs": [
    {
     "data": {
      "text/plain": [
       "(9, 1)"
      ]
     },
     "execution_count": 42,
     "metadata": {},
     "output_type": "execute_result"
    }
   ],
   "source": [
    "not_allc.shape"
   ]
  },
  {
   "cell_type": "code",
   "execution_count": 43,
   "id": "df5e43e5",
   "metadata": {},
   "outputs": [
    {
     "data": {
      "text/plain": [
       "9"
      ]
     },
     "execution_count": 43,
     "metadata": {},
     "output_type": "execute_result"
    }
   ],
   "source": [
    "#lấy giá trị của dòng cuối\n",
    "not_allc.shape[0]"
   ]
  },
  {
   "cell_type": "code",
   "execution_count": 44,
   "id": "f45e0bc9-13f4-41cc-9c4f-445049acfb6a",
   "metadata": {
    "scrolled": false
   },
   "outputs": [
    {
     "data": {
      "text/html": [
       "<div>\n",
       "<style scoped>\n",
       "    .dataframe tbody tr th:only-of-type {\n",
       "        vertical-align: middle;\n",
       "    }\n",
       "\n",
       "    .dataframe tbody tr th {\n",
       "        vertical-align: top;\n",
       "    }\n",
       "\n",
       "    .dataframe thead th {\n",
       "        text-align: right;\n",
       "    }\n",
       "</style>\n",
       "<table border=\"1\" class=\"dataframe\">\n",
       "  <thead>\n",
       "    <tr style=\"text-align: right;\">\n",
       "      <th></th>\n",
       "      <th>emp_id</th>\n",
       "      <th>all_2023_date</th>\n",
       "    </tr>\n",
       "  </thead>\n",
       "  <tbody>\n",
       "    <tr>\n",
       "      <th>0</th>\n",
       "      <td>ductt</td>\n",
       "      <td>[2023-01-01 00:00:00, 2023-01-02 00:00:00, 202...</td>\n",
       "    </tr>\n",
       "    <tr>\n",
       "      <th>1</th>\n",
       "      <td>manhdt1</td>\n",
       "      <td>[2023-01-01 00:00:00, 2023-01-02 00:00:00, 202...</td>\n",
       "    </tr>\n",
       "    <tr>\n",
       "      <th>2</th>\n",
       "      <td>khoand26</td>\n",
       "      <td>[2023-01-01 00:00:00, 2023-01-02 00:00:00, 202...</td>\n",
       "    </tr>\n",
       "    <tr>\n",
       "      <th>3</th>\n",
       "      <td>lanntt</td>\n",
       "      <td>[2023-01-01 00:00:00, 2023-01-02 00:00:00, 202...</td>\n",
       "    </tr>\n",
       "    <tr>\n",
       "      <th>4</th>\n",
       "      <td>anhntt21</td>\n",
       "      <td>[2023-01-01 00:00:00, 2023-01-02 00:00:00, 202...</td>\n",
       "    </tr>\n",
       "  </tbody>\n",
       "</table>\n",
       "</div>"
      ],
      "text/plain": [
       "     emp_id                                      all_2023_date\n",
       "0     ductt  [2023-01-01 00:00:00, 2023-01-02 00:00:00, 202...\n",
       "1   manhdt1  [2023-01-01 00:00:00, 2023-01-02 00:00:00, 202...\n",
       "2  khoand26  [2023-01-01 00:00:00, 2023-01-02 00:00:00, 202...\n",
       "3    lanntt  [2023-01-01 00:00:00, 2023-01-02 00:00:00, 202...\n",
       "4  anhntt21  [2023-01-01 00:00:00, 2023-01-02 00:00:00, 202..."
      ]
     },
     "execution_count": 44,
     "metadata": {},
     "output_type": "execute_result"
    }
   ],
   "source": [
    "not_allc['all_2023_date'] = [pd.date_range(start = '1/1/2023', end = '12/31/2023').tolist()\\\n",
    "                             for _ in range(not_allc.shape[0])]\n",
    "not_allc.head()"
   ]
  },
  {
   "attachments": {
    "image.png": {
     "image/png": "[encoded data removed]"
    }
   },
   "cell_type": "markdown",
   "id": "41fce8d0",
   "metadata": {},
   "source": [
    "![image.png](attachment:image.png)"
   ]
  },
  {
   "cell_type": "code",
   "execution_count": 45,
   "id": "c9fcdd66-2582-4255-ba22-a86ae291752a",
   "metadata": {},
   "outputs": [],
   "source": [
    "#expand dữ liệu từ list ra từng dòng \n",
    "not_allc = not_allc.explode('all_2023_date')"
   ]
  },
  {
   "cell_type": "code",
   "execution_count": 46,
   "id": "1c90a7ca-2129-42dc-a672-5baf77142f4d",
   "metadata": {
    "scrolled": false
   },
   "outputs": [
    {
     "data": {
      "text/html": [
       "<div>\n",
       "<style scoped>\n",
       "    .dataframe tbody tr th:only-of-type {\n",
       "        vertical-align: middle;\n",
       "    }\n",
       "\n",
       "    .dataframe tbody tr th {\n",
       "        vertical-align: top;\n",
       "    }\n",
       "\n",
       "    .dataframe thead th {\n",
       "        text-align: right;\n",
       "    }\n",
       "</style>\n",
       "<table border=\"1\" class=\"dataframe\">\n",
       "  <thead>\n",
       "    <tr style=\"text-align: right;\">\n",
       "      <th></th>\n",
       "      <th>emp_id</th>\n",
       "      <th>all_2023_date</th>\n",
       "    </tr>\n",
       "  </thead>\n",
       "  <tbody>\n",
       "    <tr>\n",
       "      <th>0</th>\n",
       "      <td>ductt</td>\n",
       "      <td>2023-01-01</td>\n",
       "    </tr>\n",
       "    <tr>\n",
       "      <th>0</th>\n",
       "      <td>ductt</td>\n",
       "      <td>2023-01-02</td>\n",
       "    </tr>\n",
       "    <tr>\n",
       "      <th>0</th>\n",
       "      <td>ductt</td>\n",
       "      <td>2023-01-03</td>\n",
       "    </tr>\n",
       "    <tr>\n",
       "      <th>0</th>\n",
       "      <td>ductt</td>\n",
       "      <td>2023-01-04</td>\n",
       "    </tr>\n",
       "    <tr>\n",
       "      <th>0</th>\n",
       "      <td>ductt</td>\n",
       "      <td>2023-01-05</td>\n",
       "    </tr>\n",
       "  </tbody>\n",
       "</table>\n",
       "</div>"
      ],
      "text/plain": [
       "  emp_id all_2023_date\n",
       "0  ductt    2023-01-01\n",
       "0  ductt    2023-01-02\n",
       "0  ductt    2023-01-03\n",
       "0  ductt    2023-01-04\n",
       "0  ductt    2023-01-05"
      ]
     },
     "execution_count": 46,
     "metadata": {},
     "output_type": "execute_result"
    }
   ],
   "source": [
    "not_allc.head()"
   ]
  },
  {
   "cell_type": "code",
   "execution_count": 15,
   "id": "70815ace",
   "metadata": {},
   "outputs": [
    {
     "data": {
      "text/plain": [
       "(3285, 2)"
      ]
     },
     "execution_count": 15,
     "metadata": {},
     "output_type": "execute_result"
    }
   ],
   "source": [
    "not_allc.shape\n",
    "\n",
    "# 9 nhân viên nhân 365 ngày -> 3285 dòng, 2 cột"
   ]
  },
  {
   "cell_type": "markdown",
   "id": "b61255af-b133-41fe-8187-46c0c877109d",
   "metadata": {},
   "source": [
    "Kết quả, chúng ta đã có 1 danh sách 365 ngày cho từng nhân viên. Những ngày này đang được mặc định là \"chưa có việc\"."
   ]
  },
  {
   "cell_type": "markdown",
   "id": "5b648bdc-f060-4a3f-9144-22722361aadd",
   "metadata": {},
   "source": [
    "Việc tiếp theo là chúng ta tìm danh sách những ngày mà 1 nhân viên nào đó \"đang có việc\". Bằng cách tạo 1 danh sách những ngày từ **Ngày bắt đầu** đến **Ngày kết thúc** công việc."
   ]
  },
  {
   "cell_type": "code",
   "execution_count": 16,
   "id": "7c848d06-816b-4e61-b880-2c024037d13a",
   "metadata": {
    "scrolled": true
   },
   "outputs": [
    {
     "data": {
      "text/plain": [
       "emp_id                    object\n",
       "allocated_from    datetime64[ns]\n",
       "allocated_to      datetime64[ns]\n",
       "customer_code             object\n",
       "dtype: object"
      ]
     },
     "execution_count": 16,
     "metadata": {},
     "output_type": "execute_result"
    }
   ],
   "source": [
    "allc.dtypes"
   ]
  },
  {
   "cell_type": "code",
   "execution_count": 48,
   "id": "2bda3c43",
   "metadata": {},
   "outputs": [
    {
     "data": {
      "text/plain": [
       "Timestamp('2023-02-15 00:00:00')"
      ]
     },
     "execution_count": 48,
     "metadata": {},
     "output_type": "execute_result"
    }
   ],
   "source": [
    "#Lấy scalar ở vị trí 0\n",
    "allc['allocated_from'][0]"
   ]
  },
  {
   "cell_type": "code",
   "execution_count": 50,
   "id": "5e0eb22c",
   "metadata": {
    "collapsed": true
   },
   "outputs": [
    {
     "data": {
      "text/plain": [
       "DatetimeIndex(['2023-02-15', '2023-02-16', '2023-02-17', '2023-02-18',\n",
       "               '2023-02-19', '2023-02-20', '2023-02-21', '2023-02-22',\n",
       "               '2023-02-23', '2023-02-24', '2023-02-25', '2023-02-26',\n",
       "               '2023-02-27', '2023-02-28', '2023-03-01', '2023-03-02',\n",
       "               '2023-03-03', '2023-03-04', '2023-03-05', '2023-03-06',\n",
       "               '2023-03-07', '2023-03-08', '2023-03-09', '2023-03-10',\n",
       "               '2023-03-11', '2023-03-12', '2023-03-13', '2023-03-14',\n",
       "               '2023-03-15', '2023-03-16', '2023-03-17', '2023-03-18',\n",
       "               '2023-03-19', '2023-03-20', '2023-03-21', '2023-03-22',\n",
       "               '2023-03-23', '2023-03-24', '2023-03-25', '2023-03-26',\n",
       "               '2023-03-27', '2023-03-28', '2023-03-29', '2023-03-30',\n",
       "               '2023-03-31', '2023-04-01', '2023-04-02', '2023-04-03',\n",
       "               '2023-04-04', '2023-04-05', '2023-04-06', '2023-04-07',\n",
       "               '2023-04-08', '2023-04-09', '2023-04-10', '2023-04-11',\n",
       "               '2023-04-12', '2023-04-13', '2023-04-14', '2023-04-15',\n",
       "               '2023-04-16', '2023-04-17', '2023-04-18', '2023-04-19',\n",
       "               '2023-04-20', '2023-04-21', '2023-04-22', '2023-04-23',\n",
       "               '2023-04-24', '2023-04-25', '2023-04-26', '2023-04-27',\n",
       "               '2023-04-28', '2023-04-29', '2023-04-30'],\n",
       "              dtype='datetime64[ns]', freq='D')"
      ]
     },
     "execution_count": 50,
     "metadata": {},
     "output_type": "execute_result"
    }
   ],
   "source": [
    "# range từ from...to\n",
    "pd.date_range(allc['allocated_from'][0], allc['allocated_to'][0])"
   ]
  },
  {
   "cell_type": "code",
   "execution_count": 52,
   "id": "f074a9a1-df55-4da0-ae8e-a95297c4b6a9",
   "metadata": {},
   "outputs": [],
   "source": [
    "allc['allocated_range'] = [pd.date_range(allc['allocated_from'][_], allc['allocated_to'][_]).tolist()\\\n",
    "                           for _ in range(allc.shape[0])]"
   ]
  },
  {
   "cell_type": "code",
   "execution_count": 53,
   "id": "269fdc29-947c-4bbe-a548-dd16d6153df1",
   "metadata": {
    "scrolled": true
   },
   "outputs": [
    {
     "data": {
      "text/html": [
       "<div>\n",
       "<style scoped>\n",
       "    .dataframe tbody tr th:only-of-type {\n",
       "        vertical-align: middle;\n",
       "    }\n",
       "\n",
       "    .dataframe tbody tr th {\n",
       "        vertical-align: top;\n",
       "    }\n",
       "\n",
       "    .dataframe thead th {\n",
       "        text-align: right;\n",
       "    }\n",
       "</style>\n",
       "<table border=\"1\" class=\"dataframe\">\n",
       "  <thead>\n",
       "    <tr style=\"text-align: right;\">\n",
       "      <th></th>\n",
       "      <th>emp_id</th>\n",
       "      <th>allocated_from</th>\n",
       "      <th>allocated_to</th>\n",
       "      <th>customer_code</th>\n",
       "      <th>allocated_range</th>\n",
       "    </tr>\n",
       "  </thead>\n",
       "  <tbody>\n",
       "    <tr>\n",
       "      <th>0</th>\n",
       "      <td>ductt</td>\n",
       "      <td>2023-02-15</td>\n",
       "      <td>2023-04-30</td>\n",
       "      <td>git</td>\n",
       "      <td>[2023-02-15 00:00:00, 2023-02-16 00:00:00, 202...</td>\n",
       "    </tr>\n",
       "    <tr>\n",
       "      <th>1</th>\n",
       "      <td>manhdt1</td>\n",
       "      <td>2023-02-01</td>\n",
       "      <td>2023-07-04</td>\n",
       "      <td>sld</td>\n",
       "      <td>[2023-02-01 00:00:00, 2023-02-02 00:00:00, 202...</td>\n",
       "    </tr>\n",
       "    <tr>\n",
       "      <th>2</th>\n",
       "      <td>khoand26</td>\n",
       "      <td>2023-04-12</td>\n",
       "      <td>2023-04-30</td>\n",
       "      <td>sld</td>\n",
       "      <td>[2023-04-12 00:00:00, 2023-04-13 00:00:00, 202...</td>\n",
       "    </tr>\n",
       "    <tr>\n",
       "      <th>3</th>\n",
       "      <td>lanntt</td>\n",
       "      <td>2023-03-15</td>\n",
       "      <td>2023-06-15</td>\n",
       "      <td>git</td>\n",
       "      <td>[2023-03-15 00:00:00, 2023-03-16 00:00:00, 202...</td>\n",
       "    </tr>\n",
       "    <tr>\n",
       "      <th>4</th>\n",
       "      <td>anhntt21</td>\n",
       "      <td>2023-07-01</td>\n",
       "      <td>2023-09-30</td>\n",
       "      <td>bii</td>\n",
       "      <td>[2023-07-01 00:00:00, 2023-07-02 00:00:00, 202...</td>\n",
       "    </tr>\n",
       "  </tbody>\n",
       "</table>\n",
       "</div>"
      ],
      "text/plain": [
       "     emp_id allocated_from allocated_to customer_code  \\\n",
       "0     ductt     2023-02-15   2023-04-30           git   \n",
       "1   manhdt1     2023-02-01   2023-07-04           sld   \n",
       "2  khoand26     2023-04-12   2023-04-30           sld   \n",
       "3    lanntt     2023-03-15   2023-06-15           git   \n",
       "4  anhntt21     2023-07-01   2023-09-30           bii   \n",
       "\n",
       "                                     allocated_range  \n",
       "0  [2023-02-15 00:00:00, 2023-02-16 00:00:00, 202...  \n",
       "1  [2023-02-01 00:00:00, 2023-02-02 00:00:00, 202...  \n",
       "2  [2023-04-12 00:00:00, 2023-04-13 00:00:00, 202...  \n",
       "3  [2023-03-15 00:00:00, 2023-03-16 00:00:00, 202...  \n",
       "4  [2023-07-01 00:00:00, 2023-07-02 00:00:00, 202...  "
      ]
     },
     "execution_count": 53,
     "metadata": {},
     "output_type": "execute_result"
    }
   ],
   "source": [
    "allc.head()"
   ]
  },
  {
   "cell_type": "code",
   "execution_count": 19,
   "id": "c3c793ab-1a2b-4a7a-93a8-5f11acd123d2",
   "metadata": {},
   "outputs": [],
   "source": [
    "allc = allc.explode('allocated_range')"
   ]
  },
  {
   "cell_type": "code",
   "execution_count": 20,
   "id": "a2d2578e-de4f-4993-b80a-5915930654eb",
   "metadata": {},
   "outputs": [
    {
     "data": {
      "text/html": [
       "<div>\n",
       "<style scoped>\n",
       "    .dataframe tbody tr th:only-of-type {\n",
       "        vertical-align: middle;\n",
       "    }\n",
       "\n",
       "    .dataframe tbody tr th {\n",
       "        vertical-align: top;\n",
       "    }\n",
       "\n",
       "    .dataframe thead th {\n",
       "        text-align: right;\n",
       "    }\n",
       "</style>\n",
       "<table border=\"1\" class=\"dataframe\">\n",
       "  <thead>\n",
       "    <tr style=\"text-align: right;\">\n",
       "      <th></th>\n",
       "      <th>emp_id</th>\n",
       "      <th>allocated_from</th>\n",
       "      <th>allocated_to</th>\n",
       "      <th>customer_code</th>\n",
       "      <th>allocated_range</th>\n",
       "    </tr>\n",
       "  </thead>\n",
       "  <tbody>\n",
       "    <tr>\n",
       "      <th>0</th>\n",
       "      <td>ductt</td>\n",
       "      <td>2023-02-15</td>\n",
       "      <td>2023-04-30</td>\n",
       "      <td>git</td>\n",
       "      <td>2023-02-15</td>\n",
       "    </tr>\n",
       "    <tr>\n",
       "      <th>0</th>\n",
       "      <td>ductt</td>\n",
       "      <td>2023-02-15</td>\n",
       "      <td>2023-04-30</td>\n",
       "      <td>git</td>\n",
       "      <td>2023-02-16</td>\n",
       "    </tr>\n",
       "    <tr>\n",
       "      <th>0</th>\n",
       "      <td>ductt</td>\n",
       "      <td>2023-02-15</td>\n",
       "      <td>2023-04-30</td>\n",
       "      <td>git</td>\n",
       "      <td>2023-02-17</td>\n",
       "    </tr>\n",
       "    <tr>\n",
       "      <th>0</th>\n",
       "      <td>ductt</td>\n",
       "      <td>2023-02-15</td>\n",
       "      <td>2023-04-30</td>\n",
       "      <td>git</td>\n",
       "      <td>2023-02-18</td>\n",
       "    </tr>\n",
       "    <tr>\n",
       "      <th>0</th>\n",
       "      <td>ductt</td>\n",
       "      <td>2023-02-15</td>\n",
       "      <td>2023-04-30</td>\n",
       "      <td>git</td>\n",
       "      <td>2023-02-19</td>\n",
       "    </tr>\n",
       "    <tr>\n",
       "      <th>...</th>\n",
       "      <td>...</td>\n",
       "      <td>...</td>\n",
       "      <td>...</td>\n",
       "      <td>...</td>\n",
       "      <td>...</td>\n",
       "    </tr>\n",
       "    <tr>\n",
       "      <th>8</th>\n",
       "      <td>hoattt</td>\n",
       "      <td>2023-05-01</td>\n",
       "      <td>2023-06-30</td>\n",
       "      <td>sld</td>\n",
       "      <td>2023-06-26</td>\n",
       "    </tr>\n",
       "    <tr>\n",
       "      <th>8</th>\n",
       "      <td>hoattt</td>\n",
       "      <td>2023-05-01</td>\n",
       "      <td>2023-06-30</td>\n",
       "      <td>sld</td>\n",
       "      <td>2023-06-27</td>\n",
       "    </tr>\n",
       "    <tr>\n",
       "      <th>8</th>\n",
       "      <td>hoattt</td>\n",
       "      <td>2023-05-01</td>\n",
       "      <td>2023-06-30</td>\n",
       "      <td>sld</td>\n",
       "      <td>2023-06-28</td>\n",
       "    </tr>\n",
       "    <tr>\n",
       "      <th>8</th>\n",
       "      <td>hoattt</td>\n",
       "      <td>2023-05-01</td>\n",
       "      <td>2023-06-30</td>\n",
       "      <td>sld</td>\n",
       "      <td>2023-06-29</td>\n",
       "    </tr>\n",
       "    <tr>\n",
       "      <th>8</th>\n",
       "      <td>hoattt</td>\n",
       "      <td>2023-05-01</td>\n",
       "      <td>2023-06-30</td>\n",
       "      <td>sld</td>\n",
       "      <td>2023-06-30</td>\n",
       "    </tr>\n",
       "  </tbody>\n",
       "</table>\n",
       "<p>860 rows × 5 columns</p>\n",
       "</div>"
      ],
      "text/plain": [
       "    emp_id allocated_from allocated_to customer_code allocated_range\n",
       "0    ductt     2023-02-15   2023-04-30           git      2023-02-15\n",
       "0    ductt     2023-02-15   2023-04-30           git      2023-02-16\n",
       "0    ductt     2023-02-15   2023-04-30           git      2023-02-17\n",
       "0    ductt     2023-02-15   2023-04-30           git      2023-02-18\n",
       "0    ductt     2023-02-15   2023-04-30           git      2023-02-19\n",
       "..     ...            ...          ...           ...             ...\n",
       "8   hoattt     2023-05-01   2023-06-30           sld      2023-06-26\n",
       "8   hoattt     2023-05-01   2023-06-30           sld      2023-06-27\n",
       "8   hoattt     2023-05-01   2023-06-30           sld      2023-06-28\n",
       "8   hoattt     2023-05-01   2023-06-30           sld      2023-06-29\n",
       "8   hoattt     2023-05-01   2023-06-30           sld      2023-06-30\n",
       "\n",
       "[860 rows x 5 columns]"
      ]
     },
     "execution_count": 20,
     "metadata": {},
     "output_type": "execute_result"
    }
   ],
   "source": [
    "allc"
   ]
  },
  {
   "cell_type": "code",
   "execution_count": 56,
   "id": "46392604-ea66-4bd8-9c1c-8d4ff6fa97c0",
   "metadata": {},
   "outputs": [
    {
     "data": {
      "text/plain": [
       "emp_id                     object\n",
       "allocated_from     datetime64[ns]\n",
       "allocated_to       datetime64[ns]\n",
       "customer_code              object\n",
       "allocated_range            object\n",
       "status                     object\n",
       "dtype: object"
      ]
     },
     "execution_count": 56,
     "metadata": {},
     "output_type": "execute_result"
    }
   ],
   "source": [
    "allc.dtypes"
   ]
  },
  {
   "cell_type": "markdown",
   "id": "c386b072-c4d0-48a2-b141-e945f731d95e",
   "metadata": {},
   "source": [
    "Sau khi hoàn thành danh sách, chúng ta thêm cột mới để đánh dấu trạng thái **Đang có việc (Allocated)** của nhân viên đó."
   ]
  },
  {
   "cell_type": "code",
   "execution_count": 57,
   "id": "5c6fd15e-45b5-4b7f-a71c-16acebac571a",
   "metadata": {},
   "outputs": [],
   "source": [
    "allc['status'] = 'Allocated'\n"
   ]
  },
  {
   "cell_type": "code",
   "execution_count": 58,
   "id": "e3324952-09e0-49d8-b048-fa58b436748a",
   "metadata": {},
   "outputs": [
    {
     "data": {
      "text/html": [
       "<div>\n",
       "<style scoped>\n",
       "    .dataframe tbody tr th:only-of-type {\n",
       "        vertical-align: middle;\n",
       "    }\n",
       "\n",
       "    .dataframe tbody tr th {\n",
       "        vertical-align: top;\n",
       "    }\n",
       "\n",
       "    .dataframe thead th {\n",
       "        text-align: right;\n",
       "    }\n",
       "</style>\n",
       "<table border=\"1\" class=\"dataframe\">\n",
       "  <thead>\n",
       "    <tr style=\"text-align: right;\">\n",
       "      <th></th>\n",
       "      <th>emp_id</th>\n",
       "      <th>allocated_from</th>\n",
       "      <th>allocated_to</th>\n",
       "      <th>customer_code</th>\n",
       "      <th>allocated_range</th>\n",
       "      <th>status</th>\n",
       "    </tr>\n",
       "  </thead>\n",
       "  <tbody>\n",
       "    <tr>\n",
       "      <th>0</th>\n",
       "      <td>ductt</td>\n",
       "      <td>2023-02-15</td>\n",
       "      <td>2023-04-30</td>\n",
       "      <td>git</td>\n",
       "      <td>[2023-02-15 00:00:00, 2023-02-16 00:00:00, 202...</td>\n",
       "      <td>Allocated</td>\n",
       "    </tr>\n",
       "    <tr>\n",
       "      <th>1</th>\n",
       "      <td>manhdt1</td>\n",
       "      <td>2023-02-01</td>\n",
       "      <td>2023-07-04</td>\n",
       "      <td>sld</td>\n",
       "      <td>[2023-02-01 00:00:00, 2023-02-02 00:00:00, 202...</td>\n",
       "      <td>Allocated</td>\n",
       "    </tr>\n",
       "    <tr>\n",
       "      <th>2</th>\n",
       "      <td>khoand26</td>\n",
       "      <td>2023-04-12</td>\n",
       "      <td>2023-04-30</td>\n",
       "      <td>sld</td>\n",
       "      <td>[2023-04-12 00:00:00, 2023-04-13 00:00:00, 202...</td>\n",
       "      <td>Allocated</td>\n",
       "    </tr>\n",
       "    <tr>\n",
       "      <th>3</th>\n",
       "      <td>lanntt</td>\n",
       "      <td>2023-03-15</td>\n",
       "      <td>2023-06-15</td>\n",
       "      <td>git</td>\n",
       "      <td>[2023-03-15 00:00:00, 2023-03-16 00:00:00, 202...</td>\n",
       "      <td>Allocated</td>\n",
       "    </tr>\n",
       "    <tr>\n",
       "      <th>4</th>\n",
       "      <td>anhntt21</td>\n",
       "      <td>2023-07-01</td>\n",
       "      <td>2023-09-30</td>\n",
       "      <td>bii</td>\n",
       "      <td>[2023-07-01 00:00:00, 2023-07-02 00:00:00, 202...</td>\n",
       "      <td>Allocated</td>\n",
       "    </tr>\n",
       "  </tbody>\n",
       "</table>\n",
       "</div>"
      ],
      "text/plain": [
       "     emp_id allocated_from allocated_to customer_code  \\\n",
       "0     ductt     2023-02-15   2023-04-30           git   \n",
       "1   manhdt1     2023-02-01   2023-07-04           sld   \n",
       "2  khoand26     2023-04-12   2023-04-30           sld   \n",
       "3    lanntt     2023-03-15   2023-06-15           git   \n",
       "4  anhntt21     2023-07-01   2023-09-30           bii   \n",
       "\n",
       "                                     allocated_range     status  \n",
       "0  [2023-02-15 00:00:00, 2023-02-16 00:00:00, 202...  Allocated  \n",
       "1  [2023-02-01 00:00:00, 2023-02-02 00:00:00, 202...  Allocated  \n",
       "2  [2023-04-12 00:00:00, 2023-04-13 00:00:00, 202...  Allocated  \n",
       "3  [2023-03-15 00:00:00, 2023-03-16 00:00:00, 202...  Allocated  \n",
       "4  [2023-07-01 00:00:00, 2023-07-02 00:00:00, 202...  Allocated  "
      ]
     },
     "execution_count": 58,
     "metadata": {},
     "output_type": "execute_result"
    }
   ],
   "source": [
    "allc.head()"
   ]
  },
  {
   "cell_type": "markdown",
   "id": "0be78e8e-d5eb-498f-bce6-e220dde4775d",
   "metadata": {},
   "source": [
    "Cuối cùng, chúng ta **join** danh sách những ngày Đang có việc vào danh sách 365 ngày, sẽ tìm ra được những ngày trống việc."
   ]
  },
  {
   "cell_type": "code",
   "execution_count": 24,
   "id": "0592da97-2f83-4c61-80a9-643c0fe956b3",
   "metadata": {},
   "outputs": [
    {
     "data": {
      "text/html": [
       "<div>\n",
       "<style scoped>\n",
       "    .dataframe tbody tr th:only-of-type {\n",
       "        vertical-align: middle;\n",
       "    }\n",
       "\n",
       "    .dataframe tbody tr th {\n",
       "        vertical-align: top;\n",
       "    }\n",
       "\n",
       "    .dataframe thead th {\n",
       "        text-align: right;\n",
       "    }\n",
       "</style>\n",
       "<table border=\"1\" class=\"dataframe\">\n",
       "  <thead>\n",
       "    <tr style=\"text-align: right;\">\n",
       "      <th></th>\n",
       "      <th>emp_id</th>\n",
       "      <th>all_2023_date</th>\n",
       "      <th>allocated_from</th>\n",
       "      <th>allocated_to</th>\n",
       "      <th>customer_code</th>\n",
       "      <th>allocated_range</th>\n",
       "      <th>status</th>\n",
       "    </tr>\n",
       "  </thead>\n",
       "  <tbody>\n",
       "    <tr>\n",
       "      <th>0</th>\n",
       "      <td>ductt</td>\n",
       "      <td>2023-01-01</td>\n",
       "      <td>NaT</td>\n",
       "      <td>NaT</td>\n",
       "      <td>NaN</td>\n",
       "      <td>NaT</td>\n",
       "      <td>NaN</td>\n",
       "    </tr>\n",
       "    <tr>\n",
       "      <th>1</th>\n",
       "      <td>ductt</td>\n",
       "      <td>2023-01-02</td>\n",
       "      <td>NaT</td>\n",
       "      <td>NaT</td>\n",
       "      <td>NaN</td>\n",
       "      <td>NaT</td>\n",
       "      <td>NaN</td>\n",
       "    </tr>\n",
       "    <tr>\n",
       "      <th>2</th>\n",
       "      <td>ductt</td>\n",
       "      <td>2023-01-03</td>\n",
       "      <td>NaT</td>\n",
       "      <td>NaT</td>\n",
       "      <td>NaN</td>\n",
       "      <td>NaT</td>\n",
       "      <td>NaN</td>\n",
       "    </tr>\n",
       "    <tr>\n",
       "      <th>3</th>\n",
       "      <td>ductt</td>\n",
       "      <td>2023-01-04</td>\n",
       "      <td>NaT</td>\n",
       "      <td>NaT</td>\n",
       "      <td>NaN</td>\n",
       "      <td>NaT</td>\n",
       "      <td>NaN</td>\n",
       "    </tr>\n",
       "    <tr>\n",
       "      <th>4</th>\n",
       "      <td>ductt</td>\n",
       "      <td>2023-01-05</td>\n",
       "      <td>NaT</td>\n",
       "      <td>NaT</td>\n",
       "      <td>NaN</td>\n",
       "      <td>NaT</td>\n",
       "      <td>NaN</td>\n",
       "    </tr>\n",
       "  </tbody>\n",
       "</table>\n",
       "</div>"
      ],
      "text/plain": [
       "  emp_id all_2023_date allocated_from allocated_to customer_code  \\\n",
       "0  ductt    2023-01-01            NaT          NaT           NaN   \n",
       "1  ductt    2023-01-02            NaT          NaT           NaN   \n",
       "2  ductt    2023-01-03            NaT          NaT           NaN   \n",
       "3  ductt    2023-01-04            NaT          NaT           NaN   \n",
       "4  ductt    2023-01-05            NaT          NaT           NaN   \n",
       "\n",
       "  allocated_range status  \n",
       "0             NaT    NaN  \n",
       "1             NaT    NaN  \n",
       "2             NaT    NaN  \n",
       "3             NaT    NaN  \n",
       "4             NaT    NaN  "
      ]
     },
     "execution_count": 24,
     "metadata": {},
     "output_type": "execute_result"
    }
   ],
   "source": [
    "status_by_day = pd.merge(not_allc, allc\n",
    "                         , how = 'left'\n",
    "                         , left_on = ['emp_id', 'all_2023_date']\n",
    "                         , right_on = ['emp_id', 'allocated_range'])\n",
    "status_by_day.head()"
   ]
  },
  {
   "cell_type": "code",
   "execution_count": 60,
   "id": "2fa3e258-4a56-4aa0-ae11-5ea0b9013572",
   "metadata": {},
   "outputs": [],
   "source": [
    "status_by_day['month'] = status_by_day['all_2023_date'].dt.month\n"
   ]
  },
  {
   "cell_type": "code",
   "execution_count": 61,
   "id": "61eab2f6-6c91-4cd7-b801-77ab67511709",
   "metadata": {},
   "outputs": [
    {
     "data": {
      "text/plain": [
       "month  status   \n",
       "2      Allocated    2\n",
       "3      Allocated    4\n",
       "4      Allocated    7\n",
       "5      Allocated    4\n",
       "6      Allocated    4\n",
       "7      Allocated    3\n",
       "8      Allocated    2\n",
       "9      Allocated    2\n",
       "10     Allocated    1\n",
       "11     Allocated    1\n",
       "12     Allocated    1\n",
       "Name: emp_id, dtype: int64"
      ]
     },
     "execution_count": 61,
     "metadata": {},
     "output_type": "execute_result"
    }
   ],
   "source": [
    "status_by_day.groupby(['month', 'status'])['emp_id'].nunique()"
   ]
  },
  {
   "cell_type": "code",
   "execution_count": null,
   "id": "e9c754b5-de8a-41ea-b6d7-e98da410550b",
   "metadata": {},
   "outputs": [],
   "source": []
  },
  {
   "cell_type": "code",
   "execution_count": 62,
   "id": "1a1b2dfd",
   "metadata": {
    "scrolled": false
   },
   "outputs": [
    {
     "data": {
      "text/html": [
       "<div>\n",
       "<style scoped>\n",
       "    .dataframe tbody tr th:only-of-type {\n",
       "        vertical-align: middle;\n",
       "    }\n",
       "\n",
       "    .dataframe tbody tr th {\n",
       "        vertical-align: top;\n",
       "    }\n",
       "\n",
       "    .dataframe thead th {\n",
       "        text-align: right;\n",
       "    }\n",
       "</style>\n",
       "<table border=\"1\" class=\"dataframe\">\n",
       "  <thead>\n",
       "    <tr style=\"text-align: right;\">\n",
       "      <th></th>\n",
       "      <th>month</th>\n",
       "      <th>status</th>\n",
       "      <th>customer_code</th>\n",
       "    </tr>\n",
       "  </thead>\n",
       "  <tbody>\n",
       "    <tr>\n",
       "      <th>0</th>\n",
       "      <td>2</td>\n",
       "      <td>Allocated</td>\n",
       "      <td>[git, sld]</td>\n",
       "    </tr>\n",
       "    <tr>\n",
       "      <th>1</th>\n",
       "      <td>3</td>\n",
       "      <td>Allocated</td>\n",
       "      <td>[git, sld, ggt]</td>\n",
       "    </tr>\n",
       "    <tr>\n",
       "      <th>2</th>\n",
       "      <td>4</td>\n",
       "      <td>Allocated</td>\n",
       "      <td>[git, sld, bii, tlt, ggt]</td>\n",
       "    </tr>\n",
       "    <tr>\n",
       "      <th>3</th>\n",
       "      <td>5</td>\n",
       "      <td>Allocated</td>\n",
       "      <td>[sld, git, tlt]</td>\n",
       "    </tr>\n",
       "    <tr>\n",
       "      <th>4</th>\n",
       "      <td>6</td>\n",
       "      <td>Allocated</td>\n",
       "      <td>[sld, git, tlt]</td>\n",
       "    </tr>\n",
       "    <tr>\n",
       "      <th>5</th>\n",
       "      <td>7</td>\n",
       "      <td>Allocated</td>\n",
       "      <td>[sld, bii, tlt]</td>\n",
       "    </tr>\n",
       "    <tr>\n",
       "      <th>6</th>\n",
       "      <td>8</td>\n",
       "      <td>Allocated</td>\n",
       "      <td>[bii, tlt]</td>\n",
       "    </tr>\n",
       "    <tr>\n",
       "      <th>7</th>\n",
       "      <td>9</td>\n",
       "      <td>Allocated</td>\n",
       "      <td>[bii, tlt]</td>\n",
       "    </tr>\n",
       "    <tr>\n",
       "      <th>8</th>\n",
       "      <td>10</td>\n",
       "      <td>Allocated</td>\n",
       "      <td>[tlt]</td>\n",
       "    </tr>\n",
       "    <tr>\n",
       "      <th>9</th>\n",
       "      <td>11</td>\n",
       "      <td>Allocated</td>\n",
       "      <td>[tlt]</td>\n",
       "    </tr>\n",
       "    <tr>\n",
       "      <th>10</th>\n",
       "      <td>12</td>\n",
       "      <td>Allocated</td>\n",
       "      <td>[tlt]</td>\n",
       "    </tr>\n",
       "  </tbody>\n",
       "</table>\n",
       "</div>"
      ],
      "text/plain": [
       "    month     status              customer_code\n",
       "0       2  Allocated                 [git, sld]\n",
       "1       3  Allocated            [git, sld, ggt]\n",
       "2       4  Allocated  [git, sld, bii, tlt, ggt]\n",
       "3       5  Allocated            [sld, git, tlt]\n",
       "4       6  Allocated            [sld, git, tlt]\n",
       "5       7  Allocated            [sld, bii, tlt]\n",
       "6       8  Allocated                 [bii, tlt]\n",
       "7       9  Allocated                 [bii, tlt]\n",
       "8      10  Allocated                      [tlt]\n",
       "9      11  Allocated                      [tlt]\n",
       "10     12  Allocated                      [tlt]"
      ]
     },
     "execution_count": 62,
     "metadata": {},
     "output_type": "execute_result"
    }
   ],
   "source": [
    "status_by_day.groupby(['month', 'status'])['customer_code'].unique().reset_index()"
   ]
  },
  {
   "attachments": {
    "image-2.png": {
     "image/png": "[encoded data removed]"
    }
   },
   "cell_type": "markdown",
   "id": "977ddb98",
   "metadata": {},
   "source": [
    "![image-2.png](attachment:image-2.png)"
   ]
  },
  {
   "cell_type": "code",
   "execution_count": 63,
   "id": "d258436a",
   "metadata": {},
   "outputs": [],
   "source": [
    "status_by_day['month'] = status_by_day['all_2023_date'].dt.month"
   ]
  },
  {
   "cell_type": "code",
   "execution_count": 65,
   "id": "f8f0abd4",
   "metadata": {},
   "outputs": [],
   "source": [
    "result = status_by_day.loc[status_by_day['month'] == 7, :].groupby(['month','status'])['customer_code'].unique().reset_index()"
   ]
  },
  {
   "cell_type": "code",
   "execution_count": 66,
   "id": "ffc9949d",
   "metadata": {
    "scrolled": true
   },
   "outputs": [
    {
     "data": {
      "text/html": [
       "<div>\n",
       "<style scoped>\n",
       "    .dataframe tbody tr th:only-of-type {\n",
       "        vertical-align: middle;\n",
       "    }\n",
       "\n",
       "    .dataframe tbody tr th {\n",
       "        vertical-align: top;\n",
       "    }\n",
       "\n",
       "    .dataframe thead th {\n",
       "        text-align: right;\n",
       "    }\n",
       "</style>\n",
       "<table border=\"1\" class=\"dataframe\">\n",
       "  <thead>\n",
       "    <tr style=\"text-align: right;\">\n",
       "      <th></th>\n",
       "      <th>month</th>\n",
       "      <th>status</th>\n",
       "      <th>customer_code</th>\n",
       "    </tr>\n",
       "  </thead>\n",
       "  <tbody>\n",
       "    <tr>\n",
       "      <th>0</th>\n",
       "      <td>7</td>\n",
       "      <td>Allocated</td>\n",
       "      <td>[sld, bii, tlt]</td>\n",
       "    </tr>\n",
       "  </tbody>\n",
       "</table>\n",
       "</div>"
      ],
      "text/plain": [
       "   month     status    customer_code\n",
       "0      7  Allocated  [sld, bii, tlt]"
      ]
     },
     "execution_count": 66,
     "metadata": {},
     "output_type": "execute_result"
    }
   ],
   "source": [
    "result"
   ]
  },
  {
   "cell_type": "code",
   "execution_count": 70,
   "id": "646b3e51",
   "metadata": {
    "scrolled": false
   },
   "outputs": [
    {
     "data": {
      "text/html": [
       "<div>\n",
       "<style scoped>\n",
       "    .dataframe tbody tr th:only-of-type {\n",
       "        vertical-align: middle;\n",
       "    }\n",
       "\n",
       "    .dataframe tbody tr th {\n",
       "        vertical-align: top;\n",
       "    }\n",
       "\n",
       "    .dataframe thead th {\n",
       "        text-align: right;\n",
       "    }\n",
       "</style>\n",
       "<table border=\"1\" class=\"dataframe\">\n",
       "  <thead>\n",
       "    <tr style=\"text-align: right;\">\n",
       "      <th></th>\n",
       "      <th>month</th>\n",
       "      <th>status</th>\n",
       "      <th>customer_code</th>\n",
       "    </tr>\n",
       "  </thead>\n",
       "  <tbody>\n",
       "    <tr>\n",
       "      <th>0</th>\n",
       "      <td>7</td>\n",
       "      <td>Allocated</td>\n",
       "      <td>sld</td>\n",
       "    </tr>\n",
       "    <tr>\n",
       "      <th>0</th>\n",
       "      <td>7</td>\n",
       "      <td>Allocated</td>\n",
       "      <td>bii</td>\n",
       "    </tr>\n",
       "    <tr>\n",
       "      <th>0</th>\n",
       "      <td>7</td>\n",
       "      <td>Allocated</td>\n",
       "      <td>tlt</td>\n",
       "    </tr>\n",
       "  </tbody>\n",
       "</table>\n",
       "</div>"
      ],
      "text/plain": [
       "   month     status customer_code\n",
       "0      7  Allocated           sld\n",
       "0      7  Allocated           bii\n",
       "0      7  Allocated           tlt"
      ]
     },
     "execution_count": 70,
     "metadata": {},
     "output_type": "execute_result"
    }
   ],
   "source": [
    "result = result.explode('customer_code')\n",
    "result"
   ]
  },
  {
   "cell_type": "code",
   "execution_count": 72,
   "id": "ee0bae44",
   "metadata": {},
   "outputs": [
    {
     "data": {
      "text/html": [
       "<div>\n",
       "<style scoped>\n",
       "    .dataframe tbody tr th:only-of-type {\n",
       "        vertical-align: middle;\n",
       "    }\n",
       "\n",
       "    .dataframe tbody tr th {\n",
       "        vertical-align: top;\n",
       "    }\n",
       "\n",
       "    .dataframe thead th {\n",
       "        text-align: right;\n",
       "    }\n",
       "</style>\n",
       "<table border=\"1\" class=\"dataframe\">\n",
       "  <thead>\n",
       "    <tr style=\"text-align: right;\">\n",
       "      <th></th>\n",
       "      <th>code</th>\n",
       "      <th>name</th>\n",
       "    </tr>\n",
       "  </thead>\n",
       "  <tbody>\n",
       "    <tr>\n",
       "      <th>0</th>\n",
       "      <td>git</td>\n",
       "      <td>Game for IT</td>\n",
       "    </tr>\n",
       "    <tr>\n",
       "      <th>1</th>\n",
       "      <td>sld</td>\n",
       "      <td>Slow Down</td>\n",
       "    </tr>\n",
       "    <tr>\n",
       "      <th>2</th>\n",
       "      <td>bii</td>\n",
       "      <td>Biotechnology Information Institute</td>\n",
       "    </tr>\n",
       "    <tr>\n",
       "      <th>3</th>\n",
       "      <td>tlt</td>\n",
       "      <td>Transmission Line</td>\n",
       "    </tr>\n",
       "    <tr>\n",
       "      <th>4</th>\n",
       "      <td>ggt</td>\n",
       "      <td>Gamma-GT</td>\n",
       "    </tr>\n",
       "  </tbody>\n",
       "</table>\n",
       "</div>"
      ],
      "text/plain": [
       "  code                                 name\n",
       "0  git                          Game for IT\n",
       "1  sld                            Slow Down\n",
       "2  bii  Biotechnology Information Institute\n",
       "3  tlt                   Transmission Line \n",
       "4  ggt                             Gamma-GT"
      ]
     },
     "execution_count": 72,
     "metadata": {},
     "output_type": "execute_result"
    }
   ],
   "source": [
    "# Load allocated data to Pandas object\n",
    "cus = pd.read_excel(data_path + data_name\n",
    "                     ,sheet_name = customer_sheet_name)\n",
    "cus.head()"
   ]
  },
  {
   "cell_type": "code",
   "execution_count": 73,
   "id": "0eac7f6d",
   "metadata": {},
   "outputs": [
    {
     "data": {
      "text/html": [
       "<div>\n",
       "<style scoped>\n",
       "    .dataframe tbody tr th:only-of-type {\n",
       "        vertical-align: middle;\n",
       "    }\n",
       "\n",
       "    .dataframe tbody tr th {\n",
       "        vertical-align: top;\n",
       "    }\n",
       "\n",
       "    .dataframe thead th {\n",
       "        text-align: right;\n",
       "    }\n",
       "</style>\n",
       "<table border=\"1\" class=\"dataframe\">\n",
       "  <thead>\n",
       "    <tr style=\"text-align: right;\">\n",
       "      <th></th>\n",
       "      <th>month</th>\n",
       "      <th>status</th>\n",
       "      <th>customer_code</th>\n",
       "      <th>code</th>\n",
       "      <th>name</th>\n",
       "    </tr>\n",
       "  </thead>\n",
       "  <tbody>\n",
       "    <tr>\n",
       "      <th>0</th>\n",
       "      <td>7</td>\n",
       "      <td>Allocated</td>\n",
       "      <td>sld</td>\n",
       "      <td>sld</td>\n",
       "      <td>Slow Down</td>\n",
       "    </tr>\n",
       "    <tr>\n",
       "      <th>1</th>\n",
       "      <td>7</td>\n",
       "      <td>Allocated</td>\n",
       "      <td>bii</td>\n",
       "      <td>bii</td>\n",
       "      <td>Biotechnology Information Institute</td>\n",
       "    </tr>\n",
       "    <tr>\n",
       "      <th>2</th>\n",
       "      <td>7</td>\n",
       "      <td>Allocated</td>\n",
       "      <td>tlt</td>\n",
       "      <td>tlt</td>\n",
       "      <td>Transmission Line</td>\n",
       "    </tr>\n",
       "  </tbody>\n",
       "</table>\n",
       "</div>"
      ],
      "text/plain": [
       "   month     status customer_code code                                 name\n",
       "0      7  Allocated           sld  sld                            Slow Down\n",
       "1      7  Allocated           bii  bii  Biotechnology Information Institute\n",
       "2      7  Allocated           tlt  tlt                   Transmission Line "
      ]
     },
     "execution_count": 73,
     "metadata": {},
     "output_type": "execute_result"
    }
   ],
   "source": [
    "#Lây cutsomer nam\n",
    "pd.merge(result, cus, how = 'inner', left_on = ['customer_code'], right_on = 'code')"
   ]
  },
  {
   "cell_type": "code",
   "execution_count": 75,
   "id": "33a80632",
   "metadata": {},
   "outputs": [
    {
     "data": {
      "text/plain": [
       "['Slow Down', 'Biotechnology Information Institute', 'Transmission Line\\xa0']"
      ]
     },
     "execution_count": 75,
     "metadata": {},
     "output_type": "execute_result"
    }
   ],
   "source": [
    "#Lây cutsomer nam\n",
    "pd.merge(result, cus, how = 'inner', left_on = ['customer_code'], right_on = 'code')['name'].tolist()"
   ]
  },
  {
   "cell_type": "code",
   "execution_count": null,
   "id": "eaea92b1",
   "metadata": {},
   "outputs": [],
   "source": [
    "#site HCM được Allocated trong những tháng nào?"
   ]
  }
 ],
 "metadata": {
  "kernelspec": {
   "display_name": "Python 3 (ipykernel)",
   "language": "python",
   "name": "python3"
  },
  "language_info": {
   "codemirror_mode": {
    "name": "ipython",
    "version": 3
   },
   "file_extension": ".py",
   "mimetype": "text/x-python",
   "name": "python",
   "nbconvert_exporter": "python",
   "pygments_lexer": "ipython3",
   "version": "3.11.3"
  }
 },
 "nbformat": 4,
 "nbformat_minor": 5
}
