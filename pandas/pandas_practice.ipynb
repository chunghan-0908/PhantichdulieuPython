{
 "cells": [
  {
   "cell_type": "code",
   "execution_count": 5,
   "id": "29f3295c-f9fa-483b-b95d-218d21ded9d7",
   "metadata": {},
   "outputs": [],
   "source": [
    "import numpy as np\n",
    "import pandas as pd\n",
    "import re"
   ]
  },
  {
   "cell_type": "markdown",
   "id": "3e6473f1-e679-4815-a1f6-b9ebd12f7b08",
   "metadata": {},
   "source": [
    "### 1. Load data\n",
    "- Load file `superstore_dataset_dashboarddesign_clean.csv` vào biến `df`"
   ]
  },
  {
   "cell_type": "code",
   "execution_count": 6,
   "id": "c6b83ea2-9cd0-4b41-8025-29b3f08941a1",
   "metadata": {},
   "outputs": [],
   "source": [
    "# Get data path & data name\n",
    "data_path = 'D:\\\\DA\\\\PhantichdulieuPython\\\\data\\\\'\n",
    "data_name = 'superstore_dataset_dashboarddesign_clean.csv'"
   ]
  },
  {
   "cell_type": "code",
   "execution_count": 7,
   "id": "089afc22-957c-4b79-8b06-fc5ace227057",
   "metadata": {},
   "outputs": [],
   "source": [
    "# Load data to Pandas object\n",
    "df = pd.read_csv(data_path + data_name, encoding= 'unicode_escape')"
   ]
  },
  {
   "cell_type": "markdown",
   "id": "f5214e11-b93b-4d48-9d83-52b2c3a825ff",
   "metadata": {},
   "source": [
    "### 2. Inspect data"
   ]
  },
  {
   "cell_type": "markdown",
   "id": "6e8fb201-cf74-4945-b84e-0ec32ef824c3",
   "metadata": {},
   "source": [
    "- Show 3 dòng đầu"
   ]
  },
  {
   "cell_type": "code",
   "execution_count": 10,
   "id": "0d9e9185-8289-49f1-88ba-375a57248eb6",
   "metadata": {},
   "outputs": [
    {
     "data": {
      "text/html": [
       "<div>\n",
       "<style scoped>\n",
       "    .dataframe tbody tr th:only-of-type {\n",
       "        vertical-align: middle;\n",
       "    }\n",
       "\n",
       "    .dataframe tbody tr th {\n",
       "        vertical-align: top;\n",
       "    }\n",
       "\n",
       "    .dataframe thead th {\n",
       "        text-align: right;\n",
       "    }\n",
       "</style>\n",
       "<table border=\"1\" class=\"dataframe\">\n",
       "  <thead>\n",
       "    <tr style=\"text-align: right;\">\n",
       "      <th></th>\n",
       "      <th>Order Date</th>\n",
       "      <th>Order ID</th>\n",
       "      <th>Product Name</th>\n",
       "      <th>Category</th>\n",
       "      <th>City</th>\n",
       "      <th>Country</th>\n",
       "      <th>Customer Name</th>\n",
       "      <th>Discount</th>\n",
       "      <th>Postal Code</th>\n",
       "      <th>Manufacturer</th>\n",
       "      <th>Profit</th>\n",
       "      <th>Profit Ratio</th>\n",
       "      <th>Quantity</th>\n",
       "      <th>Region</th>\n",
       "      <th>Sales</th>\n",
       "      <th>Segment</th>\n",
       "      <th>Ship Date</th>\n",
       "      <th>Ship Mode</th>\n",
       "      <th>State</th>\n",
       "      <th>Sub-Category</th>\n",
       "    </tr>\n",
       "  </thead>\n",
       "  <tbody>\n",
       "    <tr>\n",
       "      <th>0</th>\n",
       "      <td>11/8/2017</td>\n",
       "      <td>CA-2017-152156</td>\n",
       "      <td>Bush Somerset Collection Bookcase</td>\n",
       "      <td>Furniture</td>\n",
       "      <td>Henderson</td>\n",
       "      <td>United States</td>\n",
       "      <td>Claire Gute</td>\n",
       "      <td>0.0</td>\n",
       "      <td>42420.0</td>\n",
       "      <td>Bush</td>\n",
       "      <td>42.0</td>\n",
       "      <td>0.16</td>\n",
       "      <td>2.0</td>\n",
       "      <td>South</td>\n",
       "      <td>262.0</td>\n",
       "      <td>Consumer</td>\n",
       "      <td>11/11/2017</td>\n",
       "      <td>Second Class</td>\n",
       "      <td>Kentucky</td>\n",
       "      <td>Bookcases</td>\n",
       "    </tr>\n",
       "    <tr>\n",
       "      <th>1</th>\n",
       "      <td>11/8/2017</td>\n",
       "      <td>CA-2017-152156</td>\n",
       "      <td>Hon Deluxe Fabric Upholstered Stacking Chairs,...</td>\n",
       "      <td>Furniture</td>\n",
       "      <td>Henderson</td>\n",
       "      <td>United States</td>\n",
       "      <td>Claire Gute</td>\n",
       "      <td>0.0</td>\n",
       "      <td>42420.0</td>\n",
       "      <td>Hon</td>\n",
       "      <td>220.0</td>\n",
       "      <td>0.30</td>\n",
       "      <td>3.0</td>\n",
       "      <td>South</td>\n",
       "      <td>732.0</td>\n",
       "      <td>Consumer</td>\n",
       "      <td>11/11/2017</td>\n",
       "      <td>Second Class</td>\n",
       "      <td>Kentucky</td>\n",
       "      <td>Chairs</td>\n",
       "    </tr>\n",
       "    <tr>\n",
       "      <th>2</th>\n",
       "      <td>6/12/2017</td>\n",
       "      <td>CA-2017-138688</td>\n",
       "      <td>Self-Adhesive Address Labels for Typewriters b...</td>\n",
       "      <td>Office Supplies</td>\n",
       "      <td>Los Angeles</td>\n",
       "      <td>United States</td>\n",
       "      <td>Darrin Van Huff</td>\n",
       "      <td>0.0</td>\n",
       "      <td>90036.0</td>\n",
       "      <td>Universal</td>\n",
       "      <td>7.0</td>\n",
       "      <td>0.47</td>\n",
       "      <td>2.0</td>\n",
       "      <td>West</td>\n",
       "      <td>15.0</td>\n",
       "      <td>Corporate</td>\n",
       "      <td>6/16/2017</td>\n",
       "      <td>Second Class</td>\n",
       "      <td>California</td>\n",
       "      <td>Labels</td>\n",
       "    </tr>\n",
       "  </tbody>\n",
       "</table>\n",
       "</div>"
      ],
      "text/plain": [
       "  Order Date        Order ID  \\\n",
       "0  11/8/2017  CA-2017-152156   \n",
       "1  11/8/2017  CA-2017-152156   \n",
       "2  6/12/2017  CA-2017-138688   \n",
       "\n",
       "                                        Product Name         Category  \\\n",
       "0                  Bush Somerset Collection Bookcase        Furniture   \n",
       "1  Hon Deluxe Fabric Upholstered Stacking Chairs,...        Furniture   \n",
       "2  Self-Adhesive Address Labels for Typewriters b...  Office Supplies   \n",
       "\n",
       "          City        Country    Customer Name  Discount  Postal Code  \\\n",
       "0    Henderson  United States      Claire Gute       0.0      42420.0   \n",
       "1    Henderson  United States      Claire Gute       0.0      42420.0   \n",
       "2  Los Angeles  United States  Darrin Van Huff       0.0      90036.0   \n",
       "\n",
       "  Manufacturer  Profit  Profit Ratio  Quantity Region  Sales    Segment  \\\n",
       "0         Bush    42.0          0.16       2.0  South  262.0   Consumer   \n",
       "1          Hon   220.0          0.30       3.0  South  732.0   Consumer   \n",
       "2    Universal     7.0          0.47       2.0   West   15.0  Corporate   \n",
       "\n",
       "    Ship Date     Ship Mode       State Sub-Category  \n",
       "0  11/11/2017  Second Class    Kentucky    Bookcases  \n",
       "1  11/11/2017  Second Class    Kentucky       Chairs  \n",
       "2   6/16/2017  Second Class  California       Labels  "
      ]
     },
     "execution_count": 10,
     "metadata": {},
     "output_type": "execute_result"
    }
   ],
   "source": [
    "df.head(3)"
   ]
  },
  {
   "cell_type": "markdown",
   "id": "3d10feba-5b96-4d57-9dc5-a8aa4f3226c7",
   "metadata": {},
   "source": [
    "- Show 3 dòng cuối"
   ]
  },
  {
   "cell_type": "code",
   "execution_count": 11,
   "id": "94080f0a-9584-440a-9235-4e8367aaf9c1",
   "metadata": {},
   "outputs": [
    {
     "data": {
      "text/html": [
       "<div>\n",
       "<style scoped>\n",
       "    .dataframe tbody tr th:only-of-type {\n",
       "        vertical-align: middle;\n",
       "    }\n",
       "\n",
       "    .dataframe tbody tr th {\n",
       "        vertical-align: top;\n",
       "    }\n",
       "\n",
       "    .dataframe thead th {\n",
       "        text-align: right;\n",
       "    }\n",
       "</style>\n",
       "<table border=\"1\" class=\"dataframe\">\n",
       "  <thead>\n",
       "    <tr style=\"text-align: right;\">\n",
       "      <th></th>\n",
       "      <th>Order Date</th>\n",
       "      <th>Order ID</th>\n",
       "      <th>Product Name</th>\n",
       "      <th>Category</th>\n",
       "      <th>City</th>\n",
       "      <th>Country</th>\n",
       "      <th>Customer Name</th>\n",
       "      <th>Discount</th>\n",
       "      <th>Postal Code</th>\n",
       "      <th>Manufacturer</th>\n",
       "      <th>Profit</th>\n",
       "      <th>Profit Ratio</th>\n",
       "      <th>Quantity</th>\n",
       "      <th>Region</th>\n",
       "      <th>Sales</th>\n",
       "      <th>Segment</th>\n",
       "      <th>Ship Date</th>\n",
       "      <th>Ship Mode</th>\n",
       "      <th>State</th>\n",
       "      <th>Sub-Category</th>\n",
       "    </tr>\n",
       "  </thead>\n",
       "  <tbody>\n",
       "    <tr>\n",
       "      <th>9991</th>\n",
       "      <td>6/6/2017</td>\n",
       "      <td>CA-2017-160717</td>\n",
       "      <td>Samsung Galaxy Mega 6.3</td>\n",
       "      <td>Technology</td>\n",
       "      <td>Santa Barbara</td>\n",
       "      <td>United States</td>\n",
       "      <td>Maria Etezadi</td>\n",
       "      <td>0.2</td>\n",
       "      <td>93101.0</td>\n",
       "      <td>Samsung</td>\n",
       "      <td>227.0</td>\n",
       "      <td>0.08</td>\n",
       "      <td>9.0</td>\n",
       "      <td>West</td>\n",
       "      <td>3024.0</td>\n",
       "      <td>Home Office</td>\n",
       "      <td>6/11/2017</td>\n",
       "      <td>Standard Class</td>\n",
       "      <td>California</td>\n",
       "      <td>Phones</td>\n",
       "    </tr>\n",
       "    <tr>\n",
       "      <th>9992</th>\n",
       "      <td>10/16/2018</td>\n",
       "      <td>CA-2018-159282</td>\n",
       "      <td>Swingline SM12-08 MicroCut Jam Free Shredder</td>\n",
       "      <td>Technology</td>\n",
       "      <td>Yuma</td>\n",
       "      <td>United States</td>\n",
       "      <td>Gary Hansen</td>\n",
       "      <td>0.7</td>\n",
       "      <td>85364.0</td>\n",
       "      <td>Other</td>\n",
       "      <td>-480.0</td>\n",
       "      <td>-0.80</td>\n",
       "      <td>5.0</td>\n",
       "      <td>West</td>\n",
       "      <td>600.0</td>\n",
       "      <td>Home Office</td>\n",
       "      <td>10/21/2018</td>\n",
       "      <td>Standard Class</td>\n",
       "      <td>Arizona</td>\n",
       "      <td>Machines</td>\n",
       "    </tr>\n",
       "    <tr>\n",
       "      <th>9993</th>\n",
       "      <td>4/17/2018</td>\n",
       "      <td>CA-2018-134845</td>\n",
       "      <td>Lexmark MX611dhe Monochrome Laser Printer</td>\n",
       "      <td>Technology</td>\n",
       "      <td>Louisville</td>\n",
       "      <td>United States</td>\n",
       "      <td>Sharelle Roach</td>\n",
       "      <td>0.7</td>\n",
       "      <td>80027.0</td>\n",
       "      <td>Other</td>\n",
       "      <td>-3400.0</td>\n",
       "      <td>-1.33</td>\n",
       "      <td>5.0</td>\n",
       "      <td>West</td>\n",
       "      <td>2550.0</td>\n",
       "      <td>Home Office</td>\n",
       "      <td>4/23/2018</td>\n",
       "      <td>Standard Class</td>\n",
       "      <td>Colorado</td>\n",
       "      <td>Machines</td>\n",
       "    </tr>\n",
       "  </tbody>\n",
       "</table>\n",
       "</div>"
      ],
      "text/plain": [
       "      Order Date        Order ID  \\\n",
       "9991    6/6/2017  CA-2017-160717   \n",
       "9992  10/16/2018  CA-2018-159282   \n",
       "9993   4/17/2018  CA-2018-134845   \n",
       "\n",
       "                                      Product Name    Category           City  \\\n",
       "9991                       Samsung Galaxy Mega 6.3  Technology  Santa Barbara   \n",
       "9992  Swingline SM12-08 MicroCut Jam Free Shredder  Technology           Yuma   \n",
       "9993     Lexmark MX611dhe Monochrome Laser Printer  Technology     Louisville   \n",
       "\n",
       "            Country   Customer Name  Discount  Postal Code Manufacturer  \\\n",
       "9991  United States   Maria Etezadi       0.2      93101.0      Samsung   \n",
       "9992  United States     Gary Hansen       0.7      85364.0        Other   \n",
       "9993  United States  Sharelle Roach       0.7      80027.0        Other   \n",
       "\n",
       "      Profit  Profit Ratio  Quantity Region   Sales      Segment   Ship Date  \\\n",
       "9991   227.0          0.08       9.0   West  3024.0  Home Office   6/11/2017   \n",
       "9992  -480.0         -0.80       5.0   West   600.0  Home Office  10/21/2018   \n",
       "9993 -3400.0         -1.33       5.0   West  2550.0  Home Office   4/23/2018   \n",
       "\n",
       "           Ship Mode       State Sub-Category  \n",
       "9991  Standard Class  California       Phones  \n",
       "9992  Standard Class     Arizona     Machines  \n",
       "9993  Standard Class    Colorado     Machines  "
      ]
     },
     "execution_count": 11,
     "metadata": {},
     "output_type": "execute_result"
    }
   ],
   "source": [
    "df.tail(3)"
   ]
  },
  {
   "cell_type": "markdown",
   "id": "a1267d4c-bfc7-4073-9030-7718af335d28",
   "metadata": {},
   "source": [
    "- Data có bao nhiêu dòng, bao nhiêu cột?"
   ]
  },
  {
   "cell_type": "code",
   "execution_count": 13,
   "id": "5540a061-313c-4121-9d3a-56d3f2009e89",
   "metadata": {
    "scrolled": true
   },
   "outputs": [
    {
     "data": {
      "text/plain": [
       "(9994, 20)"
      ]
     },
     "execution_count": 13,
     "metadata": {},
     "output_type": "execute_result"
    }
   ],
   "source": [
    "df.shape"
   ]
  },
  {
   "cell_type": "code",
   "execution_count": 7,
   "id": "681ece88",
   "metadata": {
    "scrolled": true
   },
   "outputs": [
    {
     "name": "stdout",
     "output_type": "stream",
     "text": [
      "Data có 9994 hàng, 20 cột\n"
     ]
    }
   ],
   "source": [
    "print('Data có', df.shape[0],'hàng,',df.shape[1],'cột')"
   ]
  },
  {
   "cell_type": "code",
   "execution_count": 8,
   "id": "42a30445",
   "metadata": {},
   "outputs": [
    {
     "name": "stdout",
     "output_type": "stream",
     "text": [
      "Data có 9994 hàng, 20 cột\n"
     ]
    }
   ],
   "source": [
    "print('Data có {} hàng, {} cột'.format(df.shape[0], df.shape[1]))"
   ]
  },
  {
   "cell_type": "markdown",
   "id": "00810528-1416-468b-97e5-9a2644efc6ba",
   "metadata": {},
   "source": [
    "- In ra list tên các cột"
   ]
  },
  {
   "cell_type": "code",
   "execution_count": 111,
   "id": "92aea9f0-bed3-40c8-937e-402094d6afed",
   "metadata": {},
   "outputs": [
    {
     "data": {
      "text/plain": [
       "['Order Date',\n",
       " 'Order ID',\n",
       " 'Product Name',\n",
       " 'Category',\n",
       " 'City',\n",
       " 'Country',\n",
       " 'Customer Name',\n",
       " 'Discount',\n",
       " 'Postal Code',\n",
       " 'Manufacturer',\n",
       " 'Profit',\n",
       " 'Profit Ratio',\n",
       " 'Quantity',\n",
       " 'Region',\n",
       " 'Sales',\n",
       " 'Segment',\n",
       " 'Ship Date',\n",
       " 'Ship Mode',\n",
       " 'State',\n",
       " 'Sub-Category']"
      ]
     },
     "execution_count": 111,
     "metadata": {},
     "output_type": "execute_result"
    }
   ],
   "source": [
    "df.columns.tolist()"
   ]
  },
  {
   "cell_type": "markdown",
   "id": "a2206332-1271-4fc9-8b93-b7f92ad4f447",
   "metadata": {},
   "source": [
    "- Kiểu dữ liệu của từng cột"
   ]
  },
  {
   "cell_type": "code",
   "execution_count": 112,
   "id": "4ef7277e-f346-49d3-ab05-e8544e9e325c",
   "metadata": {},
   "outputs": [
    {
     "data": {
      "text/plain": [
       "Order Date        object\n",
       "Order ID          object\n",
       "Product Name      object\n",
       "Category          object\n",
       "City              object\n",
       "Country           object\n",
       "Customer Name     object\n",
       "Discount         float64\n",
       "Postal Code      float64\n",
       "Manufacturer      object\n",
       "Profit           float64\n",
       "Profit Ratio     float64\n",
       "Quantity         float64\n",
       "Region            object\n",
       "Sales            float64\n",
       "Segment           object\n",
       "Ship Date         object\n",
       "Ship Mode         object\n",
       "State             object\n",
       "Sub-Category      object\n",
       "dtype: object"
      ]
     },
     "execution_count": 112,
     "metadata": {},
     "output_type": "execute_result"
    }
   ],
   "source": [
    "df.dtypes"
   ]
  },
  {
   "cell_type": "markdown",
   "id": "792b7817-0b68-4b06-9de5-2c2a742017fa",
   "metadata": {},
   "source": [
    "### 3. Transform cột"
   ]
  },
  {
   "cell_type": "markdown",
   "id": "38d2df4f-75aa-42ff-aa6b-f921c303d0dd",
   "metadata": {},
   "source": [
    "####  3.1. Đổi tên cột"
   ]
  },
  {
   "cell_type": "markdown",
   "id": "5d6ec000-0699-403d-8f00-c2f41af73c0b",
   "metadata": {},
   "source": [
    "- Biến tên cột về dạng chữ thường và snake_case"
   ]
  },
  {
   "cell_type": "code",
   "execution_count": 4,
   "id": "b1e92b67-6549-45a3-acb4-32e3ff92d51b",
   "metadata": {},
   "outputs": [],
   "source": [
    "new_cols = [re.sub('[ ]','_',_).lower() for _ in df.columns.tolist()] # List comprehension\n",
    "df.columns = new_cols"
   ]
  },
  {
   "cell_type": "code",
   "execution_count": 15,
   "id": "79477105",
   "metadata": {
    "scrolled": true
   },
   "outputs": [],
   "source": [
    "#khác\n",
    "new_cols = []\n",
    "for _ in df.columns.tolist():\n",
    "    new_cols += [re.sub('[ -]','_',_).strip().lower()]\n",
    "new_cols\n",
    "df.columns = new_cols  "
   ]
  },
  {
   "cell_type": "markdown",
   "id": "bd521756-0e8b-4bb8-8590-94140740bbbc",
   "metadata": {},
   "source": [
    "- In ra 1 dòng đầu để kiểm tra"
   ]
  },
  {
   "cell_type": "code",
   "execution_count": 16,
   "id": "4b993bb7-5e94-499c-bb75-68c4510d9945",
   "metadata": {},
   "outputs": [
    {
     "data": {
      "text/html": [
       "<div>\n",
       "<style scoped>\n",
       "    .dataframe tbody tr th:only-of-type {\n",
       "        vertical-align: middle;\n",
       "    }\n",
       "\n",
       "    .dataframe tbody tr th {\n",
       "        vertical-align: top;\n",
       "    }\n",
       "\n",
       "    .dataframe thead th {\n",
       "        text-align: right;\n",
       "    }\n",
       "</style>\n",
       "<table border=\"1\" class=\"dataframe\">\n",
       "  <thead>\n",
       "    <tr style=\"text-align: right;\">\n",
       "      <th></th>\n",
       "      <th>order_date</th>\n",
       "      <th>order_id</th>\n",
       "      <th>product_name</th>\n",
       "      <th>category</th>\n",
       "      <th>city</th>\n",
       "      <th>country</th>\n",
       "      <th>customer_name</th>\n",
       "      <th>discount</th>\n",
       "      <th>postal_code</th>\n",
       "      <th>manufacturer</th>\n",
       "      <th>profit</th>\n",
       "      <th>profit_ratio</th>\n",
       "      <th>quantity</th>\n",
       "      <th>region</th>\n",
       "      <th>sales</th>\n",
       "      <th>segment</th>\n",
       "      <th>ship_date</th>\n",
       "      <th>ship_mode</th>\n",
       "      <th>state</th>\n",
       "      <th>sub_category</th>\n",
       "    </tr>\n",
       "  </thead>\n",
       "  <tbody>\n",
       "    <tr>\n",
       "      <th>0</th>\n",
       "      <td>11/8/2017</td>\n",
       "      <td>CA-2017-152156</td>\n",
       "      <td>Bush Somerset Collection Bookcase</td>\n",
       "      <td>Furniture</td>\n",
       "      <td>Henderson</td>\n",
       "      <td>United States</td>\n",
       "      <td>Claire Gute</td>\n",
       "      <td>0.0</td>\n",
       "      <td>42420.0</td>\n",
       "      <td>Bush</td>\n",
       "      <td>42.0</td>\n",
       "      <td>0.16</td>\n",
       "      <td>2.0</td>\n",
       "      <td>South</td>\n",
       "      <td>262.0</td>\n",
       "      <td>Consumer</td>\n",
       "      <td>11/11/2017</td>\n",
       "      <td>Second Class</td>\n",
       "      <td>Kentucky</td>\n",
       "      <td>Bookcases</td>\n",
       "    </tr>\n",
       "  </tbody>\n",
       "</table>\n",
       "</div>"
      ],
      "text/plain": [
       "  order_date        order_id                       product_name   category  \\\n",
       "0  11/8/2017  CA-2017-152156  Bush Somerset Collection Bookcase  Furniture   \n",
       "\n",
       "        city        country customer_name  discount  postal_code manufacturer  \\\n",
       "0  Henderson  United States   Claire Gute       0.0      42420.0         Bush   \n",
       "\n",
       "   profit  profit_ratio  quantity region  sales   segment   ship_date  \\\n",
       "0    42.0          0.16       2.0  South  262.0  Consumer  11/11/2017   \n",
       "\n",
       "      ship_mode     state sub_category  \n",
       "0  Second Class  Kentucky    Bookcases  "
      ]
     },
     "execution_count": 16,
     "metadata": {},
     "output_type": "execute_result"
    }
   ],
   "source": [
    "df.head(1)"
   ]
  },
  {
   "cell_type": "markdown",
   "id": "97100808-7c97-4e04-9fff-78bedeeb6cc2",
   "metadata": {},
   "source": [
    "#### Tại sao phải chuyển tên cột về dạng \"snake_case\"?"
   ]
  },
  {
   "cell_type": "markdown",
   "id": "7d9a2316-3334-42d0-b014-6b039a47cf39",
   "metadata": {},
   "source": [
    "1. Độ nhất quán và dễ đọc: \"snake_case\" giúp tên cột trở nên dễ đọc hơn và dễ hiểu hơn bởi vì các từ được phân tách bằng dấu gạch dưới (_) thay vì viết hoa chữ cái đầu. Điều này giúp các từ trong tên cột trở nên rõ ràng hơn và giảm khả năng nhầm lẫn.\n",
    "\n",
    "2. Tương thích với nhiều ngôn ngữ và công cụ: Chuẩn \"snake_case\" phù hợp với nhiều ngôn ngữ lập trình và công cụ xử lý dữ liệu. Khi bạn chia sẻ dữ liệu với người khác hoặc làm việc với nhiều công cụ khác nhau, việc sử dụng chuẩn này giúp tránh sự bất tiện trong việc chuyển đổi tên cột.\n",
    "\n",
    "3. Tích hợp với các hệ thống và cơ sở dữ liệu: Nhiều hệ thống và cơ sở dữ liệu yêu cầu tên cột trong dạng \"snake_case\". Khi bạn làm việc với các hệ thống này, việc sử dụng \"snake_case\" có thể giảm thiểu cần phải chuyển đổi tên cột khi nhập hoặc xuất dữ liệu. Trong SQL, việc lưu data với tên cột chứa khoảng trắng gây ra một số phiền hà không cần thiết (như phải thêm \"\" khi chọn tên cột trong câu lệnh SELECT)\n",
    "\n",
    "4. Dễ dàng khi làm việc với mã code và biến: Nếu bạn cần sử dụng dữ liệu trong mã code Python, \"snake_case\" thường phù hợp hơn vì việc gọi tên biến và tên cột sẽ dễ dàng hơn. Các tên biến trong Python thường được viết bằng chữ thường và phân tách bằng dấu gạch dưới."
   ]
  },
  {
   "cell_type": "markdown",
   "id": "4e5be979-9ff4-4c5b-8699-1e5ff8877410",
   "metadata": {
    "tags": []
   },
   "source": [
    "#### 3.2. Đổi về datetime"
   ]
  },
  {
   "cell_type": "markdown",
   "id": "d892a753-8556-4190-aec4-bf68b04102c5",
   "metadata": {},
   "source": [
    "- Chọn ra cột mà tên có chứa `date` và kiểm tra dtype của chúng"
   ]
  },
  {
   "cell_type": "code",
   "execution_count": 122,
   "id": "d7f92685-cfa8-48ec-b0e9-bf5feccff7f4",
   "metadata": {
    "scrolled": true
   },
   "outputs": [
    {
     "name": "stdout",
     "output_type": "stream",
     "text": [
      "object\n"
     ]
    }
   ],
   "source": [
    "print(df[\"order_date\"].dtypes)"
   ]
  },
  {
   "cell_type": "code",
   "execution_count": 123,
   "id": "b7618214",
   "metadata": {
    "scrolled": true
   },
   "outputs": [
    {
     "name": "stdout",
     "output_type": "stream",
     "text": [
      "object\n"
     ]
    }
   ],
   "source": [
    "print(df[\"ship_date\"].dtypes)"
   ]
  },
  {
   "cell_type": "code",
   "execution_count": 19,
   "id": "faab0a74",
   "metadata": {},
   "outputs": [
    {
     "data": {
      "text/plain": [
       "['order_date', 'ship_date']"
      ]
     },
     "execution_count": 19,
     "metadata": {},
     "output_type": "execute_result"
    }
   ],
   "source": [
    "col_contain_date = []\n",
    "for _ in df.columns.tolist():\n",
    "    if 'date' in _:\n",
    "        col_contain_date += [_]\n",
    "col_contain_date\n",
    "        "
   ]
  },
  {
   "cell_type": "code",
   "execution_count": 20,
   "id": "787e6976",
   "metadata": {},
   "outputs": [
    {
     "data": {
      "text/plain": [
       "['order_date', 'ship_date']"
      ]
     },
     "execution_count": 20,
     "metadata": {},
     "output_type": "execute_result"
    }
   ],
   "source": [
    "#list comprehension\n",
    "col_contain_date = [_ for _ in df.columns.tolist() if 'date' in _]\n",
    "col_contain_date"
   ]
  },
  {
   "cell_type": "code",
   "execution_count": 21,
   "id": "2a012ff6",
   "metadata": {},
   "outputs": [
    {
     "name": "stdout",
     "output_type": "stream",
     "text": [
      "Column order_date has type: object\n",
      "Column ship_date has type: object\n"
     ]
    }
   ],
   "source": [
    "for _ in col_contain_date:\n",
    "    print('Column {} has type: {}'.format(_, df[_].dtypes))"
   ]
  },
  {
   "cell_type": "markdown",
   "id": "0d54880e-9c52-4dd2-b371-1dd2f43d3695",
   "metadata": {},
   "source": [
    "- Nếu chưa ở dạng datetime thì đổi thành datetime. Nếu đã ở dạng datetime thì vẫn cứ đổi lại để practice."
   ]
  },
  {
   "cell_type": "code",
   "execution_count": 126,
   "id": "3529f014-70d0-418c-994f-1d81cd70359e",
   "metadata": {},
   "outputs": [],
   "source": [
    "df[\"order_date\"] = pd.to_datetime(df[\"order_date\"])\n",
    "df[\"ship_date\"] = pd.to_datetime(df[\"ship_date\"])\n"
   ]
  },
  {
   "cell_type": "code",
   "execution_count": 22,
   "id": "be811d96",
   "metadata": {},
   "outputs": [],
   "source": [
    "for _ in col_contain_date:\n",
    "    df[_] = pd.to_datetime(df[_])"
   ]
  },
  {
   "cell_type": "markdown",
   "id": "c8265356-4494-4a76-97ae-400fea810e1b",
   "metadata": {},
   "source": [
    "- Kiểm tra kết quả sau khi đổi"
   ]
  },
  {
   "cell_type": "code",
   "execution_count": 127,
   "id": "2b393ff1-5926-4d2e-998d-c43312ebeaff",
   "metadata": {
    "scrolled": true
   },
   "outputs": [
    {
     "data": {
      "text/plain": [
       "order_date       datetime64[ns]\n",
       "order_id                 object\n",
       "product_name             object\n",
       "category                 object\n",
       "city                     object\n",
       "country                  object\n",
       "customer_name            object\n",
       "discount                float64\n",
       "postal_code             float64\n",
       "manufacturer             object\n",
       "profit                  float64\n",
       "profit_ratio            float64\n",
       "quantity                float64\n",
       "region                   object\n",
       "sales                   float64\n",
       "segment                  object\n",
       "ship_date        datetime64[ns]\n",
       "ship_mode                object\n",
       "state                    object\n",
       "sub-category             object\n",
       "dtype: object"
      ]
     },
     "execution_count": 127,
     "metadata": {},
     "output_type": "execute_result"
    }
   ],
   "source": [
    "df.dtypes"
   ]
  },
  {
   "cell_type": "code",
   "execution_count": 23,
   "id": "a968d44f",
   "metadata": {},
   "outputs": [
    {
     "name": "stdout",
     "output_type": "stream",
     "text": [
      "Column order_date has type: datetime64[ns]\n",
      "Column ship_date has type: datetime64[ns]\n"
     ]
    }
   ],
   "source": [
    "for _ in col_contain_date:\n",
    "    print('Column {} has type: {}'.format(_, df[_].dtypes))"
   ]
  },
  {
   "cell_type": "code",
   "execution_count": null,
   "id": "51048541",
   "metadata": {},
   "outputs": [],
   "source": []
  },
  {
   "cell_type": "code",
   "execution_count": null,
   "id": "6bdad393",
   "metadata": {},
   "outputs": [],
   "source": []
  },
  {
   "cell_type": "markdown",
   "id": "abdac7de-0580-4e94-b819-b3eed3b0bac6",
   "metadata": {},
   "source": [
    "### 4. Trả lời các câu hỏi khác"
   ]
  },
  {
   "cell_type": "markdown",
   "id": "71072331-f783-40ba-be8e-a22063e2e5c3",
   "metadata": {},
   "source": [
    "#### 4.1. Distinct values"
   ]
  },
  {
   "cell_type": "markdown",
   "id": "6faba0e7-fa26-41aa-9563-2e39681b0235",
   "metadata": {},
   "source": [
    "- Có bao nhiêu nước và là những nước nào?"
   ]
  },
  {
   "cell_type": "code",
   "execution_count": 26,
   "id": "1ea966aa-56cb-4800-8513-dc721d317840",
   "metadata": {
    "scrolled": true
   },
   "outputs": [
    {
     "name": "stdout",
     "output_type": "stream",
     "text": [
      "Có 1 nước, bao gồm ['United States'] \n"
     ]
    }
   ],
   "source": [
    "print('Có {} nước, bao gồm {} '.format(df[\"country\"].nunique(), df['country'].unique()))"
   ]
  },
  {
   "cell_type": "code",
   "execution_count": 129,
   "id": "c290973e-39d6-43fe-8091-37cb10f6b663",
   "metadata": {},
   "outputs": [
    {
     "data": {
      "text/plain": [
       "['United States']"
      ]
     },
     "execution_count": 129,
     "metadata": {},
     "output_type": "execute_result"
    }
   ],
   "source": [
    "df[\"country\"].unique().tolist()"
   ]
  },
  {
   "cell_type": "markdown",
   "id": "b77e98f3-ca96-43d2-9d2e-62576fa35635",
   "metadata": {},
   "source": [
    "- Có bao nhiêu categories và là những categories nào?"
   ]
  },
  {
   "cell_type": "code",
   "execution_count": 130,
   "id": "d69a5ff0-db85-4e32-be7e-c633fab4963d",
   "metadata": {},
   "outputs": [
    {
     "data": {
      "text/plain": [
       "3"
      ]
     },
     "execution_count": 130,
     "metadata": {},
     "output_type": "execute_result"
    }
   ],
   "source": [
    "df[\"category\"].nunique()"
   ]
  },
  {
   "cell_type": "code",
   "execution_count": 131,
   "id": "d50f02be",
   "metadata": {
    "scrolled": false
   },
   "outputs": [
    {
     "data": {
      "text/plain": [
       "['Furniture', 'Office Supplies', 'Technology']"
      ]
     },
     "execution_count": 131,
     "metadata": {},
     "output_type": "execute_result"
    }
   ],
   "source": [
    "df[\"category\"].unique().tolist()"
   ]
  },
  {
   "cell_type": "code",
   "execution_count": 27,
   "id": "25b9700c",
   "metadata": {},
   "outputs": [
    {
     "name": "stdout",
     "output_type": "stream",
     "text": [
      "Có 3 categories, bao gồm ['Furniture', 'Office Supplies', 'Technology'] \n"
     ]
    }
   ],
   "source": [
    "#print ra bỏ ngoặc vuông\n",
    "print('Có {} categories, bao gồm {} '.format(df[\"category\"].nunique(), df['category'].unique().tolist()))"
   ]
  },
  {
   "cell_type": "code",
   "execution_count": 29,
   "id": "a838466b",
   "metadata": {
    "scrolled": true
   },
   "outputs": [
    {
     "name": "stdout",
     "output_type": "stream",
     "text": [
      "Bao gồm: Furniture, Office Supplies, Technology\n"
     ]
    }
   ],
   "source": [
    "#2\n",
    "print('Bao gồm: '+', '.join(str(i) for i in df['category'].unique()))"
   ]
  },
  {
   "cell_type": "code",
   "execution_count": 45,
   "id": "52764522",
   "metadata": {},
   "outputs": [
    {
     "name": "stdout",
     "output_type": "stream",
     "text": [
      "Có 3 categories, Bao gồm Furniture, Office Supplies, Technology\n"
     ]
    }
   ],
   "source": [
    "#3 nên \n",
    "cate_number = df['category'].nunique()\n",
    "cate_detail = ', '.join(df['category'].unique().tolist())\n",
    "\n",
    "print('Có {} categories, Bao gồm {}'.format(cate_number, cate_detail))"
   ]
  },
  {
   "cell_type": "markdown",
   "id": "745b0df5-cffb-46c2-89bf-70697616968a",
   "metadata": {},
   "source": [
    "- Có bao nhiêu subcategories và là những subcategories nào?"
   ]
  },
  {
   "cell_type": "code",
   "execution_count": 38,
   "id": "63c33688-3d41-4c25-bbb0-28a1a2e1fcc9",
   "metadata": {},
   "outputs": [
    {
     "ename": "KeyError",
     "evalue": "'sub-category'",
     "output_type": "error",
     "traceback": [
      "\u001b[1;31m---------------------------------------------------------------------------\u001b[0m",
      "\u001b[1;31mKeyError\u001b[0m                                  Traceback (most recent call last)",
      "File \u001b[1;32m~\\AppData\\Local\\Programs\\Python\\Python311\\Lib\\site-packages\\pandas\\core\\indexes\\base.py:3653\u001b[0m, in \u001b[0;36mIndex.get_loc\u001b[1;34m(self, key)\u001b[0m\n\u001b[0;32m   3652\u001b[0m \u001b[38;5;28;01mtry\u001b[39;00m:\n\u001b[1;32m-> 3653\u001b[0m     \u001b[38;5;28;01mreturn\u001b[39;00m \u001b[38;5;28;43mself\u001b[39;49m\u001b[38;5;241;43m.\u001b[39;49m\u001b[43m_engine\u001b[49m\u001b[38;5;241;43m.\u001b[39;49m\u001b[43mget_loc\u001b[49m\u001b[43m(\u001b[49m\u001b[43mcasted_key\u001b[49m\u001b[43m)\u001b[49m\n\u001b[0;32m   3654\u001b[0m \u001b[38;5;28;01mexcept\u001b[39;00m \u001b[38;5;167;01mKeyError\u001b[39;00m \u001b[38;5;28;01mas\u001b[39;00m err:\n",
      "File \u001b[1;32m~\\AppData\\Local\\Programs\\Python\\Python311\\Lib\\site-packages\\pandas\\_libs\\index.pyx:147\u001b[0m, in \u001b[0;36mpandas._libs.index.IndexEngine.get_loc\u001b[1;34m()\u001b[0m\n",
      "File \u001b[1;32m~\\AppData\\Local\\Programs\\Python\\Python311\\Lib\\site-packages\\pandas\\_libs\\index.pyx:176\u001b[0m, in \u001b[0;36mpandas._libs.index.IndexEngine.get_loc\u001b[1;34m()\u001b[0m\n",
      "File \u001b[1;32mpandas\\_libs\\hashtable_class_helper.pxi:7080\u001b[0m, in \u001b[0;36mpandas._libs.hashtable.PyObjectHashTable.get_item\u001b[1;34m()\u001b[0m\n",
      "File \u001b[1;32mpandas\\_libs\\hashtable_class_helper.pxi:7088\u001b[0m, in \u001b[0;36mpandas._libs.hashtable.PyObjectHashTable.get_item\u001b[1;34m()\u001b[0m\n",
      "\u001b[1;31mKeyError\u001b[0m: 'sub-category'",
      "\nThe above exception was the direct cause of the following exception:\n",
      "\u001b[1;31mKeyError\u001b[0m                                  Traceback (most recent call last)",
      "Cell \u001b[1;32mIn[38], line 1\u001b[0m\n\u001b[1;32m----> 1\u001b[0m \u001b[43mdf\u001b[49m\u001b[43m[\u001b[49m\u001b[38;5;124;43m\"\u001b[39;49m\u001b[38;5;124;43msub-category\u001b[39;49m\u001b[38;5;124;43m\"\u001b[39;49m\u001b[43m]\u001b[49m\u001b[38;5;241m.\u001b[39mnunique()\n",
      "File \u001b[1;32m~\\AppData\\Local\\Programs\\Python\\Python311\\Lib\\site-packages\\pandas\\core\\frame.py:3761\u001b[0m, in \u001b[0;36mDataFrame.__getitem__\u001b[1;34m(self, key)\u001b[0m\n\u001b[0;32m   3759\u001b[0m \u001b[38;5;28;01mif\u001b[39;00m \u001b[38;5;28mself\u001b[39m\u001b[38;5;241m.\u001b[39mcolumns\u001b[38;5;241m.\u001b[39mnlevels \u001b[38;5;241m>\u001b[39m \u001b[38;5;241m1\u001b[39m:\n\u001b[0;32m   3760\u001b[0m     \u001b[38;5;28;01mreturn\u001b[39;00m \u001b[38;5;28mself\u001b[39m\u001b[38;5;241m.\u001b[39m_getitem_multilevel(key)\n\u001b[1;32m-> 3761\u001b[0m indexer \u001b[38;5;241m=\u001b[39m \u001b[38;5;28;43mself\u001b[39;49m\u001b[38;5;241;43m.\u001b[39;49m\u001b[43mcolumns\u001b[49m\u001b[38;5;241;43m.\u001b[39;49m\u001b[43mget_loc\u001b[49m\u001b[43m(\u001b[49m\u001b[43mkey\u001b[49m\u001b[43m)\u001b[49m\n\u001b[0;32m   3762\u001b[0m \u001b[38;5;28;01mif\u001b[39;00m is_integer(indexer):\n\u001b[0;32m   3763\u001b[0m     indexer \u001b[38;5;241m=\u001b[39m [indexer]\n",
      "File \u001b[1;32m~\\AppData\\Local\\Programs\\Python\\Python311\\Lib\\site-packages\\pandas\\core\\indexes\\base.py:3655\u001b[0m, in \u001b[0;36mIndex.get_loc\u001b[1;34m(self, key)\u001b[0m\n\u001b[0;32m   3653\u001b[0m     \u001b[38;5;28;01mreturn\u001b[39;00m \u001b[38;5;28mself\u001b[39m\u001b[38;5;241m.\u001b[39m_engine\u001b[38;5;241m.\u001b[39mget_loc(casted_key)\n\u001b[0;32m   3654\u001b[0m \u001b[38;5;28;01mexcept\u001b[39;00m \u001b[38;5;167;01mKeyError\u001b[39;00m \u001b[38;5;28;01mas\u001b[39;00m err:\n\u001b[1;32m-> 3655\u001b[0m     \u001b[38;5;28;01mraise\u001b[39;00m \u001b[38;5;167;01mKeyError\u001b[39;00m(key) \u001b[38;5;28;01mfrom\u001b[39;00m \u001b[38;5;21;01merr\u001b[39;00m\n\u001b[0;32m   3656\u001b[0m \u001b[38;5;28;01mexcept\u001b[39;00m \u001b[38;5;167;01mTypeError\u001b[39;00m:\n\u001b[0;32m   3657\u001b[0m     \u001b[38;5;66;03m# If we have a listlike key, _check_indexing_error will raise\u001b[39;00m\n\u001b[0;32m   3658\u001b[0m     \u001b[38;5;66;03m#  InvalidIndexError. Otherwise we fall through and re-raise\u001b[39;00m\n\u001b[0;32m   3659\u001b[0m     \u001b[38;5;66;03m#  the TypeError.\u001b[39;00m\n\u001b[0;32m   3660\u001b[0m     \u001b[38;5;28mself\u001b[39m\u001b[38;5;241m.\u001b[39m_check_indexing_error(key)\n",
      "\u001b[1;31mKeyError\u001b[0m: 'sub-category'"
     ]
    }
   ],
   "source": [
    "df[\"sub-category\"].nunique()"
   ]
  },
  {
   "cell_type": "code",
   "execution_count": 36,
   "id": "65d717ba-cec8-4289-b2a0-217c27f29ac1",
   "metadata": {},
   "outputs": [
    {
     "ename": "KeyError",
     "evalue": "'sub-category'",
     "output_type": "error",
     "traceback": [
      "\u001b[1;31m---------------------------------------------------------------------------\u001b[0m",
      "\u001b[1;31mKeyError\u001b[0m                                  Traceback (most recent call last)",
      "File \u001b[1;32m~\\AppData\\Local\\Programs\\Python\\Python311\\Lib\\site-packages\\pandas\\core\\indexes\\base.py:3653\u001b[0m, in \u001b[0;36mIndex.get_loc\u001b[1;34m(self, key)\u001b[0m\n\u001b[0;32m   3652\u001b[0m \u001b[38;5;28;01mtry\u001b[39;00m:\n\u001b[1;32m-> 3653\u001b[0m     \u001b[38;5;28;01mreturn\u001b[39;00m \u001b[38;5;28;43mself\u001b[39;49m\u001b[38;5;241;43m.\u001b[39;49m\u001b[43m_engine\u001b[49m\u001b[38;5;241;43m.\u001b[39;49m\u001b[43mget_loc\u001b[49m\u001b[43m(\u001b[49m\u001b[43mcasted_key\u001b[49m\u001b[43m)\u001b[49m\n\u001b[0;32m   3654\u001b[0m \u001b[38;5;28;01mexcept\u001b[39;00m \u001b[38;5;167;01mKeyError\u001b[39;00m \u001b[38;5;28;01mas\u001b[39;00m err:\n",
      "File \u001b[1;32m~\\AppData\\Local\\Programs\\Python\\Python311\\Lib\\site-packages\\pandas\\_libs\\index.pyx:147\u001b[0m, in \u001b[0;36mpandas._libs.index.IndexEngine.get_loc\u001b[1;34m()\u001b[0m\n",
      "File \u001b[1;32m~\\AppData\\Local\\Programs\\Python\\Python311\\Lib\\site-packages\\pandas\\_libs\\index.pyx:176\u001b[0m, in \u001b[0;36mpandas._libs.index.IndexEngine.get_loc\u001b[1;34m()\u001b[0m\n",
      "File \u001b[1;32mpandas\\_libs\\hashtable_class_helper.pxi:7080\u001b[0m, in \u001b[0;36mpandas._libs.hashtable.PyObjectHashTable.get_item\u001b[1;34m()\u001b[0m\n",
      "File \u001b[1;32mpandas\\_libs\\hashtable_class_helper.pxi:7088\u001b[0m, in \u001b[0;36mpandas._libs.hashtable.PyObjectHashTable.get_item\u001b[1;34m()\u001b[0m\n",
      "\u001b[1;31mKeyError\u001b[0m: 'sub-category'",
      "\nThe above exception was the direct cause of the following exception:\n",
      "\u001b[1;31mKeyError\u001b[0m                                  Traceback (most recent call last)",
      "Cell \u001b[1;32mIn[36], line 1\u001b[0m\n\u001b[1;32m----> 1\u001b[0m \u001b[38;5;124m'\u001b[39m\u001b[38;5;124m, \u001b[39m\u001b[38;5;124m'\u001b[39m\u001b[38;5;241m.\u001b[39mjoin(\u001b[43mdf\u001b[49m\u001b[43m[\u001b[49m\u001b[38;5;124;43m\"\u001b[39;49m\u001b[38;5;124;43msub-category\u001b[39;49m\u001b[38;5;124;43m\"\u001b[39;49m\u001b[43m]\u001b[49m\u001b[38;5;241m.\u001b[39munique()\u001b[38;5;241m.\u001b[39mtolist())\n",
      "File \u001b[1;32m~\\AppData\\Local\\Programs\\Python\\Python311\\Lib\\site-packages\\pandas\\core\\frame.py:3761\u001b[0m, in \u001b[0;36mDataFrame.__getitem__\u001b[1;34m(self, key)\u001b[0m\n\u001b[0;32m   3759\u001b[0m \u001b[38;5;28;01mif\u001b[39;00m \u001b[38;5;28mself\u001b[39m\u001b[38;5;241m.\u001b[39mcolumns\u001b[38;5;241m.\u001b[39mnlevels \u001b[38;5;241m>\u001b[39m \u001b[38;5;241m1\u001b[39m:\n\u001b[0;32m   3760\u001b[0m     \u001b[38;5;28;01mreturn\u001b[39;00m \u001b[38;5;28mself\u001b[39m\u001b[38;5;241m.\u001b[39m_getitem_multilevel(key)\n\u001b[1;32m-> 3761\u001b[0m indexer \u001b[38;5;241m=\u001b[39m \u001b[38;5;28;43mself\u001b[39;49m\u001b[38;5;241;43m.\u001b[39;49m\u001b[43mcolumns\u001b[49m\u001b[38;5;241;43m.\u001b[39;49m\u001b[43mget_loc\u001b[49m\u001b[43m(\u001b[49m\u001b[43mkey\u001b[49m\u001b[43m)\u001b[49m\n\u001b[0;32m   3762\u001b[0m \u001b[38;5;28;01mif\u001b[39;00m is_integer(indexer):\n\u001b[0;32m   3763\u001b[0m     indexer \u001b[38;5;241m=\u001b[39m [indexer]\n",
      "File \u001b[1;32m~\\AppData\\Local\\Programs\\Python\\Python311\\Lib\\site-packages\\pandas\\core\\indexes\\base.py:3655\u001b[0m, in \u001b[0;36mIndex.get_loc\u001b[1;34m(self, key)\u001b[0m\n\u001b[0;32m   3653\u001b[0m     \u001b[38;5;28;01mreturn\u001b[39;00m \u001b[38;5;28mself\u001b[39m\u001b[38;5;241m.\u001b[39m_engine\u001b[38;5;241m.\u001b[39mget_loc(casted_key)\n\u001b[0;32m   3654\u001b[0m \u001b[38;5;28;01mexcept\u001b[39;00m \u001b[38;5;167;01mKeyError\u001b[39;00m \u001b[38;5;28;01mas\u001b[39;00m err:\n\u001b[1;32m-> 3655\u001b[0m     \u001b[38;5;28;01mraise\u001b[39;00m \u001b[38;5;167;01mKeyError\u001b[39;00m(key) \u001b[38;5;28;01mfrom\u001b[39;00m \u001b[38;5;21;01merr\u001b[39;00m\n\u001b[0;32m   3656\u001b[0m \u001b[38;5;28;01mexcept\u001b[39;00m \u001b[38;5;167;01mTypeError\u001b[39;00m:\n\u001b[0;32m   3657\u001b[0m     \u001b[38;5;66;03m# If we have a listlike key, _check_indexing_error will raise\u001b[39;00m\n\u001b[0;32m   3658\u001b[0m     \u001b[38;5;66;03m#  InvalidIndexError. Otherwise we fall through and re-raise\u001b[39;00m\n\u001b[0;32m   3659\u001b[0m     \u001b[38;5;66;03m#  the TypeError.\u001b[39;00m\n\u001b[0;32m   3660\u001b[0m     \u001b[38;5;28mself\u001b[39m\u001b[38;5;241m.\u001b[39m_check_indexing_error(key)\n",
      "\u001b[1;31mKeyError\u001b[0m: 'sub-category'"
     ]
    }
   ],
   "source": [
    "', '.join(df[\"sub-category\"].unique().tolist())"
   ]
  },
  {
   "cell_type": "markdown",
   "id": "0d1698cc-a645-4e72-80c6-a4cf27c9be02",
   "metadata": {},
   "source": [
    "- Tương tự có bao nhiêu `city`, `region`, `state`, `ship_mode`, `segment` (gợi ý dùng `for`)"
   ]
  },
  {
   "cell_type": "code",
   "execution_count": 40,
   "id": "58e067fa-a2f0-40dd-a6e9-7cbaee9e4804",
   "metadata": {},
   "outputs": [
    {
     "name": "stdout",
     "output_type": "stream",
     "text": [
      "**Column name: city\n",
      "Num of unique 531\n",
      "Unique values: ['Henderson', 'Los Angeles', 'Fort Lauderdale', 'Concord', 'Seattle', 'Fort Worth', 'Madison', 'West Jordan', 'San Francisco', 'Fremont', 'Philadelphia', 'Orem', 'Houston', 'Richardson', 'Naperville', 'Melbourne', 'Eagan', 'Westland', 'Dover', 'New Albany', 'New York City', 'Troy', 'Chicago', 'Gilbert', 'Springfield', 'Jackson', 'Memphis', 'Decatur', 'Durham', 'Columbia', 'Rochester', 'Minneapolis', 'Portland', 'Saint Paul', 'Aurora', 'Charlotte', 'Orland Park', 'Urbandale', 'Columbus', 'Bristol', 'Wilmington', 'Bloomington', 'Phoenix', 'Roseville', 'Independence', 'Pasadena', 'Newark', 'Franklin', 'Scottsdale', 'San Jose', 'Edmond', 'Carlsbad', 'San Antonio', 'Monroe', 'Fairfield', 'Grand Prairie', 'Redlands', 'Hamilton', 'Westfield', 'Akron', 'Denver', 'Dallas', 'Whittier', 'Saginaw', 'Medina', 'Dublin', 'Detroit', 'Tampa', 'Santa Clara', 'Lakeville', 'San Diego', 'Brentwood', 'Chapel Hill', 'Morristown', 'Cincinnati', 'Inglewood', 'Tamarac', 'Colorado Springs', 'Belleville', 'Taylor', 'Lakewood', 'Arlington', 'Arvada', 'Hackensack', 'Saint Petersburg', 'Long Beach', 'Hesperia', 'Murfreesboro', 'Layton', 'Austin', 'Lowell', 'Manchester', 'Harlingen', 'Tucson', 'Quincy', 'Pembroke Pines', 'Des Moines', 'Peoria', 'Las Vegas', 'Warwick', 'Miami', 'Huntington Beach', 'Richmond', 'Louisville', 'Lawrence', 'Canton', 'New Rochelle', 'Gastonia', 'Jacksonville', 'Auburn', 'Norman', 'Park Ridge', 'Amarillo', 'Lindenhurst', 'Huntsville', 'Fayetteville', 'Costa Mesa', 'Parker', 'Atlanta', 'Gladstone', 'Great Falls', 'Lakeland', 'Montgomery', 'Mesa', 'Green Bay', 'Anaheim', 'Marysville', 'Salem', 'Laredo', 'Grove City', 'Dearborn', 'Warner Robins', 'Vallejo', 'Mission Viejo', 'Rochester Hills', 'Plainfield', 'Sierra Vista', 'Vancouver', 'Cleveland', 'Tyler', 'Burlington', 'Waynesboro', 'Chester', 'Cary', 'Palm Coast', 'Mount Vernon', 'Hialeah', 'Oceanside', 'Evanston', 'Trenton', 'Cottage Grove', 'Bossier City', 'Lancaster', 'Asheville', 'Lake Elsinore', 'Omaha', 'Edmonds', 'Santa Ana', 'Milwaukee', 'Florence', 'Lorain', 'Linden', 'Salinas', 'New Brunswick', 'Garland', 'Norwich', 'Alexandria', 'Toledo', 'Farmington', 'Riverside', 'Torrance', 'Round Rock', 'Boca Raton', 'Virginia Beach', 'Oklahoma City', 'Kirkwood', 'La Porte', 'Lansing', 'El Paso', 'Mansfield', 'Des Plaines', 'Freeport', 'Perth Amboy', 'Watertown', 'Waterbury', 'Andover', 'Clifton', 'Clinton', 'Baltimore', 'Everett', 'Buffalo', 'Parma', 'Bethlehem', 'Lafayette', 'Mobile', 'Murray', 'Coral Springs', 'Knoxville', 'Bakersfield', 'Oakland', 'Draper', 'Lake Forest', 'Pocatello', 'Hillsboro', 'Greeley', 'Longmont', 'Encinitas', 'Mount Pleasant', 'Lawton', 'Greenwood', 'Saint Charles', 'Skokie', 'Lubbock', 'Middletown', 'Marion', 'Wheeling', 'Hampton', 'Boynton Beach', 'Apopka', 'Pomona', 'Glendale', 'Tulsa', 'San Angelo', 'League City', 'Carrollton', 'Frisco', 'Beaumont', 'Paterson', 'Cranston', 'Woonsocket', 'Vineland', 'Reading', 'Lake Charles', 'Sandy Springs', 'Harrisonburg', 'Tallahassee', 'Raleigh', 'Fresno', 'Olympia', 'North Las Vegas', 'Longview', 'Bellingham', 'Sacramento', 'Thornton', 'Fort Collins', 'Littleton', 'Dearborn Heights', 'Kenosha', 'Midland', 'Eau Claire', 'Wichita', 'Mishawaka', 'Texas City', 'Carol Stream', 'Allen', 'College Station', 'Plano', 'Highland Park', 'Pharr', 'Brownsville', 'Waco', 'Buffalo Grove', 'Rockford', 'Champaign', 'Yonkers', 'Rockville', 'Washington', 'Marlborough', 'Hempstead', 'Allentown', 'Passaic', 'Southaven', 'Conway', 'Jonesboro', 'Athens', 'Georgetown', 'Chesapeake', 'Hattiesburg', 'Macon', 'Little Rock', 'Greenville', 'Chattanooga', 'Nashville', 'Deltona', 'Hollywood', 'Miramar', 'Wilson', 'Hendersonville', 'Greensboro', 'Daytona Beach', 'Westminster', 'Bellevue', 'Spokane', 'Moreno Valley', 'Kent', 'Citrus Heights', 'Oxnard', 'Las Cruces', 'Provo', 'Morgan Hill', 'San Bernardino', 'Redmond', 'Modesto', 'Bullhead City', 'Broomfield', 'Rio Rancho', 'Gresham', 'Tempe', 'Apple Valley', 'Ontario', 'Pasco', 'Garden City', 'Indianapolis', 'Saint Louis', 'Frankfort', 'The Colony', 'Edinburg', 'Abilene', 'Providence', 'East Orange', 'Meriden', 'Suffolk', 'Charlottesville', 'Woodstock', 'Goldsboro', 'Delray Beach', 'Pensacola', 'Redondo Beach', 'Santa Maria', 'San Mateo', 'Commerce City', 'Temecula', 'Portage', 'Bolingbrook', 'Milford', 'Orange', 'Utica', 'Kenner', 'Rock Hill', 'Homestead', 'Plantation', 'Chula Vista', 'Pueblo', 'South Bend', 'Elkhart', 'Noblesville', 'Holland', 'Grand Island', 'Fargo', 'La Crosse', 'Aberdeen', 'Keller', 'Irving', 'Romeoville', 'Hagerstown', 'Nashua', 'Bowling Green', 'Cuyahoga Falls', 'Pine Bluff', 'North Charleston', 'Jupiter', 'Port Orange', 'Johnson City', 'North Miami', 'Port Saint Lucie', 'Clarksville', 'Chico', 'Albuquerque', 'Stockton', 'Rancho Cucamonga', 'Pleasant Grove', 'Escondido', 'Sparks', 'Vacaville', 'Avondale', 'Salt Lake City', 'Broken Arrow', 'Sterling Heights', 'Royal Oak', 'Wausau', 'Norfolk', 'Waterloo', 'Coon Rapids', 'Grand Rapids', 'Waukesha', 'New Castle', 'Sioux Falls', 'Mcallen', 'Coppell', 'Port Arthur', 'Cedar Hill', 'Oswego', 'Arlington Heights', 'Rome', 'Leominster', 'Malden', 'Roswell', 'Newport News', 'Smyrna', 'Owensboro', 'Marietta', 'Rogers', 'Gulfport', 'Orlando', 'Margate', 'Thomasville', 'West Palm Beach', 'Lebanon', 'Bartlett', 'Ormond Beach', 'Hickory', 'Logan', 'Visalia', 'San Luis Obispo', 'San Clemente', 'Camarillo', 'Murrieta', 'Davis', 'Santa Barbara', 'Lodi', 'Renton', 'Lewiston', 'Medford', 'Chandler', 'Missoula', 'Loveland', 'Englewood', 'Tigard', 'Clovis', 'Cedar Rapids', 'Pearland', 'Niagara Falls', 'Boise', 'Thousand Oaks', 'Glenview', 'Moorhead', 'Dubuque', 'Appleton', 'New Bedford', 'Jamestown', 'Hot Springs', 'Kissimmee', 'Santa Fe', 'Woodland', 'Redding', 'Rapid City', 'Odessa', 'Tinley Park', 'Mason', 'Sunnyvale', 'West Allis', 'San Marcos', 'Corpus Christi', 'Covington', 'Eugene', 'Oak Park', 'Lincoln Park', 'Saint Cloud', 'Bryan', 'Mesquite', 'Revere', 'Bangor', 'Laurel', 'Gaithersburg', 'York', 'East Point', 'Texarkana', 'Coral Gables', 'Pompano Beach', 'Twin Falls', 'Caldwell', 'El Cajon', 'Overland Park', 'Haltom City', 'Bedford', 'Conroe', 'Deer Park', 'Altoona', 'Hoover', 'Antioch', 'Helena', 'Billings', 'Iowa City', 'Ann Arbor', 'Atlantic City', 'Elyria', 'Summerville', 'Laguna Niguel', 'Yuma', 'Maple Grove', 'Woodbury', 'Baytown', 'Grapevine', 'Missouri City', 'Bridgeton', 'Beverly', 'Reno', 'Coachella', 'Yucaipa', 'Meridian', 'Redwood City', 'Palatine', 'La Quinta', 'Montebello', 'Lehi', 'Pico Rivera', 'Muskogee', 'Mentor', 'Manteca', 'Danville', 'Olathe', 'Jefferson City', 'Saint Peters', 'Superior', 'Normal', 'Elmhurst', 'Cambridge', 'Holyoke', 'Danbury', 'Tuscaloosa', 'Sanford', 'Burbank', 'San Gabriel', 'Cheyenne', 'Shelton', 'Bayonne', 'Sheboygan', 'Springdale', 'Bozeman', 'La Mesa', 'Manhattan']\n",
      "\n",
      "\n",
      "**Column name: region\n",
      "Num of unique 4\n",
      "Unique values: ['South', 'West', 'Central', 'East']\n",
      "\n",
      "\n",
      "**Column name: state\n",
      "Num of unique 49\n",
      "Unique values: ['Kentucky', 'California', 'Florida', 'North Carolina', 'Washington', 'Texas', 'Wisconsin', 'Utah', 'Nebraska', 'Pennsylvania', 'Illinois', 'Minnesota', 'Michigan', 'Delaware', 'Indiana', 'New York', 'Arizona', 'Virginia', 'Tennessee', 'Alabama', 'South Carolina', 'Oregon', 'Colorado', 'Iowa', 'Ohio', 'Missouri', 'Oklahoma', 'New Mexico', 'Louisiana', 'Connecticut', 'New Jersey', 'Massachusetts', 'Georgia', 'Nevada', 'Rhode Island', 'Mississippi', 'Arkansas', 'Montana', 'New Hampshire', 'Maryland', 'Idaho', 'West Virginia', 'Vermont', 'Kansas', 'District of Columbia', 'North Dakota', 'South Dakota', 'Maine', 'Wyoming']\n",
      "\n",
      "\n",
      "**Column name: ship_mode\n",
      "Num of unique 4\n",
      "Unique values: ['Second Class', 'Standard Class', 'First Class', 'Same Day']\n",
      "\n",
      "\n",
      "**Column name: segment\n",
      "Num of unique 3\n",
      "Unique values: ['Consumer', 'Corporate', 'Home Office']\n",
      "\n",
      "\n"
     ]
    }
   ],
   "source": [
    "check_list = ['city', 'region', 'state', 'ship_mode', 'segment']\n",
    "\n",
    "for i in check_list:\n",
    "    num_unique = df[i].nunique()\n",
    "    unique_values = df[i].unique().tolist()\n",
    "    \n",
    "    print('**Column name:',i) \n",
    "    print('Num of unique', num_unique)\n",
    "    print('Unique values:', unique_values)\n",
    "    print('\\n')"
   ]
  },
  {
   "cell_type": "markdown",
   "id": "7f9d6e8a-74f1-420c-9e6c-7f2c412a670a",
   "metadata": {},
   "source": [
    "#### 4.2. Làm việc với ngày tháng"
   ]
  },
  {
   "cell_type": "markdown",
   "id": "6a78aee5-3de8-49d0-8b83-5ef6f61470bd",
   "metadata": {},
   "source": [
    "- Data chứa các order trong khoảng thời gian nào?"
   ]
  },
  {
   "cell_type": "code",
   "execution_count": 48,
   "id": "4d7c8ee1-c666-4e84-bf4d-b6b91c783275",
   "metadata": {},
   "outputs": [
    {
     "name": "stdout",
     "output_type": "stream",
     "text": [
      "Từ ngày: 2015-01-03 00:00:00\n",
      "Đến ngày: 2018-12-30 00:00:00\n"
     ]
    }
   ],
   "source": [
    "print('Từ ngày:',df[\"order_date\"].min())\n",
    "print('Đến ngày:',df[\"order_date\"].max())"
   ]
  },
  {
   "cell_type": "markdown",
   "id": "c50a2009-66e9-4d3e-b971-04b1189cb3af",
   "metadata": {},
   "source": [
    "- Mỗi năm có bao nhiêu order (sắp xếp theo thứ tự các năm tăng dần)?"
   ]
  },
  {
   "cell_type": "code",
   "execution_count": 136,
   "id": "5bddb51b-ee69-4466-bbaf-25e07fff1cf3",
   "metadata": {},
   "outputs": [
    {
     "data": {
      "text/html": [
       "<div>\n",
       "<style scoped>\n",
       "    .dataframe tbody tr th:only-of-type {\n",
       "        vertical-align: middle;\n",
       "    }\n",
       "\n",
       "    .dataframe tbody tr th {\n",
       "        vertical-align: top;\n",
       "    }\n",
       "\n",
       "    .dataframe thead th {\n",
       "        text-align: right;\n",
       "    }\n",
       "</style>\n",
       "<table border=\"1\" class=\"dataframe\">\n",
       "  <thead>\n",
       "    <tr style=\"text-align: right;\">\n",
       "      <th></th>\n",
       "      <th>order_year</th>\n",
       "      <th>order_id</th>\n",
       "    </tr>\n",
       "  </thead>\n",
       "  <tbody>\n",
       "    <tr>\n",
       "      <th>0</th>\n",
       "      <td>2015</td>\n",
       "      <td>1993</td>\n",
       "    </tr>\n",
       "    <tr>\n",
       "      <th>1</th>\n",
       "      <td>2016</td>\n",
       "      <td>2102</td>\n",
       "    </tr>\n",
       "    <tr>\n",
       "      <th>2</th>\n",
       "      <td>2017</td>\n",
       "      <td>2587</td>\n",
       "    </tr>\n",
       "    <tr>\n",
       "      <th>3</th>\n",
       "      <td>2018</td>\n",
       "      <td>3312</td>\n",
       "    </tr>\n",
       "  </tbody>\n",
       "</table>\n",
       "</div>"
      ],
      "text/plain": [
       "   order_year  order_id\n",
       "0        2015      1993\n",
       "1        2016      2102\n",
       "2        2017      2587\n",
       "3        2018      3312"
      ]
     },
     "execution_count": 136,
     "metadata": {},
     "output_type": "execute_result"
    }
   ],
   "source": [
    "#Truy vấn lấy dữ liệu year trong thuộc tính order_date\n",
    "df[\"order_year\"] = df[\"order_date\"].dt.year\n",
    "\n",
    "#Group by order_id theo năm\n",
    "num_order_of_year = df.groupby(\"order_year\")[\"order_id\"].count().reset_index()\n",
    "num_order_of_year"
   ]
  },
  {
   "cell_type": "markdown",
   "id": "ca2fb967-c683-4d98-9d4e-01046eec9b3a",
   "metadata": {},
   "source": [
    "- Vẽ đồ thị cho thống kê trên"
   ]
  },
  {
   "cell_type": "code",
   "execution_count": 93,
   "id": "a7afb546-f31c-404f-8e68-ae64f701d992",
   "metadata": {},
   "outputs": [
    {
     "name": "stderr",
     "output_type": "stream",
     "text": [
      "C:\\Users\\ACER\\AppData\\Local\\Temp\\ipykernel_11432\\3896639162.py:4: MatplotlibDeprecationWarning: The seaborn styles shipped by Matplotlib are deprecated since 3.6, as they no longer correspond to the styles shipped by seaborn. However, they will remain available as 'seaborn-v0_8-<style>'. Alternatively, directly use the seaborn API instead.\n",
      "  plt.style.use(\"seaborn-whitegrid\")\n"
     ]
    }
   ],
   "source": [
    "#Khai báo thư viện vẽ đồ thị\n",
    "import seaborn as sns\n",
    "import matplotlib.pyplot as plt\n",
    "plt.style.use(\"seaborn-whitegrid\")"
   ]
  },
  {
   "cell_type": "code",
   "execution_count": 137,
   "id": "f7cdd65d",
   "metadata": {},
   "outputs": [
    {
     "data": {
      "image/png": "[encoded data removed]",
      "text/plain": [
       "<Figure size 1200x400 with 1 Axes>"
      ]
     },
     "metadata": {},
     "output_type": "display_data"
    }
   ],
   "source": [
    "# Plot\n",
    "fig, ax = plt.subplots(figsize=(12, 4))\n",
    "\n",
    "sns.lineplot(\n",
    "    x='order_year', \n",
    "    y='order_id',\n",
    "    data=num_order_of_year,\n",
    "    ax=ax\n",
    ")\n",
    "\n",
    "ax.set_title('Number of orders per year')\n",
    "ax.set_xlabel(None)\n",
    "ax.set_ylabel('Number of orders')\n",
    "\n",
    "plt.show()"
   ]
  },
  {
   "cell_type": "markdown",
   "id": "0eb17f4d-d2ac-40ca-8045-f17107254c6c",
   "metadata": {},
   "source": [
    "- Mỗi tháng có bao nhiêu order?"
   ]
  },
  {
   "cell_type": "code",
   "execution_count": 139,
   "id": "d7c43322-264f-4e02-8810-7f9ea5c2174e",
   "metadata": {
    "scrolled": true
   },
   "outputs": [
    {
     "data": {
      "text/html": [
       "<div>\n",
       "<style scoped>\n",
       "    .dataframe tbody tr th:only-of-type {\n",
       "        vertical-align: middle;\n",
       "    }\n",
       "\n",
       "    .dataframe tbody tr th {\n",
       "        vertical-align: top;\n",
       "    }\n",
       "\n",
       "    .dataframe thead th {\n",
       "        text-align: right;\n",
       "    }\n",
       "</style>\n",
       "<table border=\"1\" class=\"dataframe\">\n",
       "  <thead>\n",
       "    <tr style=\"text-align: right;\">\n",
       "      <th></th>\n",
       "      <th>order_date</th>\n",
       "      <th>order_id</th>\n",
       "      <th>product_name</th>\n",
       "      <th>category</th>\n",
       "      <th>city</th>\n",
       "      <th>country</th>\n",
       "      <th>customer_name</th>\n",
       "      <th>discount</th>\n",
       "      <th>postal_code</th>\n",
       "      <th>manufacturer</th>\n",
       "      <th>...</th>\n",
       "      <th>region</th>\n",
       "      <th>sales</th>\n",
       "      <th>segment</th>\n",
       "      <th>ship_date</th>\n",
       "      <th>ship_mode</th>\n",
       "      <th>state</th>\n",
       "      <th>sub-category</th>\n",
       "      <th>order_year</th>\n",
       "      <th>orde_month</th>\n",
       "      <th>order_month</th>\n",
       "    </tr>\n",
       "  </thead>\n",
       "  <tbody>\n",
       "    <tr>\n",
       "      <th>0</th>\n",
       "      <td>2017-11-08</td>\n",
       "      <td>CA-2017-152156</td>\n",
       "      <td>Bush Somerset Collection Bookcase</td>\n",
       "      <td>Furniture</td>\n",
       "      <td>Henderson</td>\n",
       "      <td>United States</td>\n",
       "      <td>Claire Gute</td>\n",
       "      <td>0.00</td>\n",
       "      <td>42420.0</td>\n",
       "      <td>Bush</td>\n",
       "      <td>...</td>\n",
       "      <td>South</td>\n",
       "      <td>262.0</td>\n",
       "      <td>Consumer</td>\n",
       "      <td>2017-11-11</td>\n",
       "      <td>Second Class</td>\n",
       "      <td>Kentucky</td>\n",
       "      <td>Bookcases</td>\n",
       "      <td>2017</td>\n",
       "      <td>11</td>\n",
       "      <td>11</td>\n",
       "    </tr>\n",
       "    <tr>\n",
       "      <th>1</th>\n",
       "      <td>2017-11-08</td>\n",
       "      <td>CA-2017-152156</td>\n",
       "      <td>Hon Deluxe Fabric Upholstered Stacking Chairs,...</td>\n",
       "      <td>Furniture</td>\n",
       "      <td>Henderson</td>\n",
       "      <td>United States</td>\n",
       "      <td>Claire Gute</td>\n",
       "      <td>0.00</td>\n",
       "      <td>42420.0</td>\n",
       "      <td>Hon</td>\n",
       "      <td>...</td>\n",
       "      <td>South</td>\n",
       "      <td>732.0</td>\n",
       "      <td>Consumer</td>\n",
       "      <td>2017-11-11</td>\n",
       "      <td>Second Class</td>\n",
       "      <td>Kentucky</td>\n",
       "      <td>Chairs</td>\n",
       "      <td>2017</td>\n",
       "      <td>11</td>\n",
       "      <td>11</td>\n",
       "    </tr>\n",
       "    <tr>\n",
       "      <th>2</th>\n",
       "      <td>2017-06-12</td>\n",
       "      <td>CA-2017-138688</td>\n",
       "      <td>Self-Adhesive Address Labels for Typewriters b...</td>\n",
       "      <td>Office Supplies</td>\n",
       "      <td>Los Angeles</td>\n",
       "      <td>United States</td>\n",
       "      <td>Darrin Van Huff</td>\n",
       "      <td>0.00</td>\n",
       "      <td>90036.0</td>\n",
       "      <td>Universal</td>\n",
       "      <td>...</td>\n",
       "      <td>West</td>\n",
       "      <td>15.0</td>\n",
       "      <td>Corporate</td>\n",
       "      <td>2017-06-16</td>\n",
       "      <td>Second Class</td>\n",
       "      <td>California</td>\n",
       "      <td>Labels</td>\n",
       "      <td>2017</td>\n",
       "      <td>6</td>\n",
       "      <td>6</td>\n",
       "    </tr>\n",
       "    <tr>\n",
       "      <th>3</th>\n",
       "      <td>2016-10-11</td>\n",
       "      <td>US-2016-108966</td>\n",
       "      <td>Bretford CR4500 Series Slim Rectangular Table</td>\n",
       "      <td>Furniture</td>\n",
       "      <td>Fort Lauderdale</td>\n",
       "      <td>United States</td>\n",
       "      <td>Sean O'Donnell</td>\n",
       "      <td>0.45</td>\n",
       "      <td>33311.0</td>\n",
       "      <td>Bretford</td>\n",
       "      <td>...</td>\n",
       "      <td>South</td>\n",
       "      <td>958.0</td>\n",
       "      <td>Consumer</td>\n",
       "      <td>2016-10-18</td>\n",
       "      <td>Standard Class</td>\n",
       "      <td>Florida</td>\n",
       "      <td>Tables</td>\n",
       "      <td>2016</td>\n",
       "      <td>10</td>\n",
       "      <td>10</td>\n",
       "    </tr>\n",
       "    <tr>\n",
       "      <th>4</th>\n",
       "      <td>2016-10-11</td>\n",
       "      <td>US-2016-108966</td>\n",
       "      <td>Eldon Fold 'N Roll Cart System</td>\n",
       "      <td>Office Supplies</td>\n",
       "      <td>Fort Lauderdale</td>\n",
       "      <td>United States</td>\n",
       "      <td>Sean O'Donnell</td>\n",
       "      <td>0.20</td>\n",
       "      <td>33311.0</td>\n",
       "      <td>Eldon</td>\n",
       "      <td>...</td>\n",
       "      <td>South</td>\n",
       "      <td>22.0</td>\n",
       "      <td>Consumer</td>\n",
       "      <td>2016-10-18</td>\n",
       "      <td>Standard Class</td>\n",
       "      <td>Florida</td>\n",
       "      <td>Storage</td>\n",
       "      <td>2016</td>\n",
       "      <td>10</td>\n",
       "      <td>10</td>\n",
       "    </tr>\n",
       "  </tbody>\n",
       "</table>\n",
       "<p>5 rows × 23 columns</p>\n",
       "</div>"
      ],
      "text/plain": [
       "  order_date        order_id  \\\n",
       "0 2017-11-08  CA-2017-152156   \n",
       "1 2017-11-08  CA-2017-152156   \n",
       "2 2017-06-12  CA-2017-138688   \n",
       "3 2016-10-11  US-2016-108966   \n",
       "4 2016-10-11  US-2016-108966   \n",
       "\n",
       "                                        product_name         category  \\\n",
       "0                  Bush Somerset Collection Bookcase        Furniture   \n",
       "1  Hon Deluxe Fabric Upholstered Stacking Chairs,...        Furniture   \n",
       "2  Self-Adhesive Address Labels for Typewriters b...  Office Supplies   \n",
       "3      Bretford CR4500 Series Slim Rectangular Table        Furniture   \n",
       "4                     Eldon Fold 'N Roll Cart System  Office Supplies   \n",
       "\n",
       "              city        country    customer_name  discount  postal_code  \\\n",
       "0        Henderson  United States      Claire Gute      0.00      42420.0   \n",
       "1        Henderson  United States      Claire Gute      0.00      42420.0   \n",
       "2      Los Angeles  United States  Darrin Van Huff      0.00      90036.0   \n",
       "3  Fort Lauderdale  United States   Sean O'Donnell      0.45      33311.0   \n",
       "4  Fort Lauderdale  United States   Sean O'Donnell      0.20      33311.0   \n",
       "\n",
       "  manufacturer  ...  region  sales    segment  ship_date       ship_mode  \\\n",
       "0         Bush  ...   South  262.0   Consumer 2017-11-11    Second Class   \n",
       "1          Hon  ...   South  732.0   Consumer 2017-11-11    Second Class   \n",
       "2    Universal  ...    West   15.0  Corporate 2017-06-16    Second Class   \n",
       "3     Bretford  ...   South  958.0   Consumer 2016-10-18  Standard Class   \n",
       "4        Eldon  ...   South   22.0   Consumer 2016-10-18  Standard Class   \n",
       "\n",
       "        state sub-category order_year orde_month order_month  \n",
       "0    Kentucky    Bookcases       2017         11          11  \n",
       "1    Kentucky       Chairs       2017         11          11  \n",
       "2  California       Labels       2017          6           6  \n",
       "3     Florida       Tables       2016         10          10  \n",
       "4     Florida      Storage       2016         10          10  \n",
       "\n",
       "[5 rows x 23 columns]"
      ]
     },
     "execution_count": 139,
     "metadata": {},
     "output_type": "execute_result"
    }
   ],
   "source": [
    "#Truy vấn lấy dữ liệu month trong thuộc tính order_date\n",
    "df[\"order_month\"] = df[\"order_date\"].dt.month\n",
    "df.head()\n"
   ]
  },
  {
   "cell_type": "code",
   "execution_count": 143,
   "id": "64bce690-10c7-4b30-9828-ed3235cfe219",
   "metadata": {
    "scrolled": true
   },
   "outputs": [
    {
     "data": {
      "text/html": [
       "<div>\n",
       "<style scoped>\n",
       "    .dataframe tbody tr th:only-of-type {\n",
       "        vertical-align: middle;\n",
       "    }\n",
       "\n",
       "    .dataframe tbody tr th {\n",
       "        vertical-align: top;\n",
       "    }\n",
       "\n",
       "    .dataframe thead th {\n",
       "        text-align: right;\n",
       "    }\n",
       "</style>\n",
       "<table border=\"1\" class=\"dataframe\">\n",
       "  <thead>\n",
       "    <tr style=\"text-align: right;\">\n",
       "      <th></th>\n",
       "      <th>order_year</th>\n",
       "      <th>order_month</th>\n",
       "      <th>order_id</th>\n",
       "    </tr>\n",
       "  </thead>\n",
       "  <tbody>\n",
       "    <tr>\n",
       "      <th>0</th>\n",
       "      <td>2015</td>\n",
       "      <td>1</td>\n",
       "      <td>79</td>\n",
       "    </tr>\n",
       "    <tr>\n",
       "      <th>1</th>\n",
       "      <td>2015</td>\n",
       "      <td>2</td>\n",
       "      <td>46</td>\n",
       "    </tr>\n",
       "    <tr>\n",
       "      <th>2</th>\n",
       "      <td>2015</td>\n",
       "      <td>3</td>\n",
       "      <td>157</td>\n",
       "    </tr>\n",
       "    <tr>\n",
       "      <th>3</th>\n",
       "      <td>2015</td>\n",
       "      <td>4</td>\n",
       "      <td>135</td>\n",
       "    </tr>\n",
       "    <tr>\n",
       "      <th>4</th>\n",
       "      <td>2015</td>\n",
       "      <td>5</td>\n",
       "      <td>122</td>\n",
       "    </tr>\n",
       "    <tr>\n",
       "      <th>5</th>\n",
       "      <td>2015</td>\n",
       "      <td>6</td>\n",
       "      <td>135</td>\n",
       "    </tr>\n",
       "    <tr>\n",
       "      <th>6</th>\n",
       "      <td>2015</td>\n",
       "      <td>7</td>\n",
       "      <td>143</td>\n",
       "    </tr>\n",
       "    <tr>\n",
       "      <th>7</th>\n",
       "      <td>2015</td>\n",
       "      <td>8</td>\n",
       "      <td>153</td>\n",
       "    </tr>\n",
       "    <tr>\n",
       "      <th>8</th>\n",
       "      <td>2015</td>\n",
       "      <td>9</td>\n",
       "      <td>268</td>\n",
       "    </tr>\n",
       "    <tr>\n",
       "      <th>9</th>\n",
       "      <td>2015</td>\n",
       "      <td>10</td>\n",
       "      <td>159</td>\n",
       "    </tr>\n",
       "    <tr>\n",
       "      <th>10</th>\n",
       "      <td>2015</td>\n",
       "      <td>11</td>\n",
       "      <td>318</td>\n",
       "    </tr>\n",
       "    <tr>\n",
       "      <th>11</th>\n",
       "      <td>2015</td>\n",
       "      <td>12</td>\n",
       "      <td>278</td>\n",
       "    </tr>\n",
       "    <tr>\n",
       "      <th>12</th>\n",
       "      <td>2016</td>\n",
       "      <td>1</td>\n",
       "      <td>58</td>\n",
       "    </tr>\n",
       "    <tr>\n",
       "      <th>13</th>\n",
       "      <td>2016</td>\n",
       "      <td>2</td>\n",
       "      <td>64</td>\n",
       "    </tr>\n",
       "    <tr>\n",
       "      <th>14</th>\n",
       "      <td>2016</td>\n",
       "      <td>3</td>\n",
       "      <td>138</td>\n",
       "    </tr>\n",
       "    <tr>\n",
       "      <th>15</th>\n",
       "      <td>2016</td>\n",
       "      <td>4</td>\n",
       "      <td>160</td>\n",
       "    </tr>\n",
       "    <tr>\n",
       "      <th>16</th>\n",
       "      <td>2016</td>\n",
       "      <td>5</td>\n",
       "      <td>146</td>\n",
       "    </tr>\n",
       "    <tr>\n",
       "      <th>17</th>\n",
       "      <td>2016</td>\n",
       "      <td>6</td>\n",
       "      <td>138</td>\n",
       "    </tr>\n",
       "    <tr>\n",
       "      <th>18</th>\n",
       "      <td>2016</td>\n",
       "      <td>7</td>\n",
       "      <td>140</td>\n",
       "    </tr>\n",
       "    <tr>\n",
       "      <th>19</th>\n",
       "      <td>2016</td>\n",
       "      <td>8</td>\n",
       "      <td>159</td>\n",
       "    </tr>\n",
       "    <tr>\n",
       "      <th>20</th>\n",
       "      <td>2016</td>\n",
       "      <td>9</td>\n",
       "      <td>293</td>\n",
       "    </tr>\n",
       "    <tr>\n",
       "      <th>21</th>\n",
       "      <td>2016</td>\n",
       "      <td>10</td>\n",
       "      <td>166</td>\n",
       "    </tr>\n",
       "    <tr>\n",
       "      <th>22</th>\n",
       "      <td>2016</td>\n",
       "      <td>11</td>\n",
       "      <td>324</td>\n",
       "    </tr>\n",
       "    <tr>\n",
       "      <th>23</th>\n",
       "      <td>2016</td>\n",
       "      <td>12</td>\n",
       "      <td>316</td>\n",
       "    </tr>\n",
       "    <tr>\n",
       "      <th>24</th>\n",
       "      <td>2017</td>\n",
       "      <td>1</td>\n",
       "      <td>89</td>\n",
       "    </tr>\n",
       "    <tr>\n",
       "      <th>25</th>\n",
       "      <td>2017</td>\n",
       "      <td>2</td>\n",
       "      <td>83</td>\n",
       "    </tr>\n",
       "    <tr>\n",
       "      <th>26</th>\n",
       "      <td>2017</td>\n",
       "      <td>3</td>\n",
       "      <td>163</td>\n",
       "    </tr>\n",
       "    <tr>\n",
       "      <th>27</th>\n",
       "      <td>2017</td>\n",
       "      <td>4</td>\n",
       "      <td>170</td>\n",
       "    </tr>\n",
       "    <tr>\n",
       "      <th>28</th>\n",
       "      <td>2017</td>\n",
       "      <td>5</td>\n",
       "      <td>225</td>\n",
       "    </tr>\n",
       "    <tr>\n",
       "      <th>29</th>\n",
       "      <td>2017</td>\n",
       "      <td>6</td>\n",
       "      <td>199</td>\n",
       "    </tr>\n",
       "    <tr>\n",
       "      <th>30</th>\n",
       "      <td>2017</td>\n",
       "      <td>7</td>\n",
       "      <td>201</td>\n",
       "    </tr>\n",
       "    <tr>\n",
       "      <th>31</th>\n",
       "      <td>2017</td>\n",
       "      <td>8</td>\n",
       "      <td>176</td>\n",
       "    </tr>\n",
       "    <tr>\n",
       "      <th>32</th>\n",
       "      <td>2017</td>\n",
       "      <td>9</td>\n",
       "      <td>363</td>\n",
       "    </tr>\n",
       "    <tr>\n",
       "      <th>33</th>\n",
       "      <td>2017</td>\n",
       "      <td>10</td>\n",
       "      <td>196</td>\n",
       "    </tr>\n",
       "    <tr>\n",
       "      <th>34</th>\n",
       "      <td>2017</td>\n",
       "      <td>11</td>\n",
       "      <td>370</td>\n",
       "    </tr>\n",
       "    <tr>\n",
       "      <th>35</th>\n",
       "      <td>2017</td>\n",
       "      <td>12</td>\n",
       "      <td>352</td>\n",
       "    </tr>\n",
       "    <tr>\n",
       "      <th>36</th>\n",
       "      <td>2018</td>\n",
       "      <td>1</td>\n",
       "      <td>155</td>\n",
       "    </tr>\n",
       "    <tr>\n",
       "      <th>37</th>\n",
       "      <td>2018</td>\n",
       "      <td>2</td>\n",
       "      <td>107</td>\n",
       "    </tr>\n",
       "    <tr>\n",
       "      <th>38</th>\n",
       "      <td>2018</td>\n",
       "      <td>3</td>\n",
       "      <td>238</td>\n",
       "    </tr>\n",
       "    <tr>\n",
       "      <th>39</th>\n",
       "      <td>2018</td>\n",
       "      <td>4</td>\n",
       "      <td>203</td>\n",
       "    </tr>\n",
       "    <tr>\n",
       "      <th>40</th>\n",
       "      <td>2018</td>\n",
       "      <td>5</td>\n",
       "      <td>242</td>\n",
       "    </tr>\n",
       "    <tr>\n",
       "      <th>41</th>\n",
       "      <td>2018</td>\n",
       "      <td>6</td>\n",
       "      <td>245</td>\n",
       "    </tr>\n",
       "    <tr>\n",
       "      <th>42</th>\n",
       "      <td>2018</td>\n",
       "      <td>7</td>\n",
       "      <td>226</td>\n",
       "    </tr>\n",
       "    <tr>\n",
       "      <th>43</th>\n",
       "      <td>2018</td>\n",
       "      <td>8</td>\n",
       "      <td>218</td>\n",
       "    </tr>\n",
       "    <tr>\n",
       "      <th>44</th>\n",
       "      <td>2018</td>\n",
       "      <td>9</td>\n",
       "      <td>459</td>\n",
       "    </tr>\n",
       "    <tr>\n",
       "      <th>45</th>\n",
       "      <td>2018</td>\n",
       "      <td>10</td>\n",
       "      <td>298</td>\n",
       "    </tr>\n",
       "    <tr>\n",
       "      <th>46</th>\n",
       "      <td>2018</td>\n",
       "      <td>11</td>\n",
       "      <td>459</td>\n",
       "    </tr>\n",
       "    <tr>\n",
       "      <th>47</th>\n",
       "      <td>2018</td>\n",
       "      <td>12</td>\n",
       "      <td>462</td>\n",
       "    </tr>\n",
       "  </tbody>\n",
       "</table>\n",
       "</div>"
      ],
      "text/plain": [
       "    order_year  order_month  order_id\n",
       "0         2015            1        79\n",
       "1         2015            2        46\n",
       "2         2015            3       157\n",
       "3         2015            4       135\n",
       "4         2015            5       122\n",
       "5         2015            6       135\n",
       "6         2015            7       143\n",
       "7         2015            8       153\n",
       "8         2015            9       268\n",
       "9         2015           10       159\n",
       "10        2015           11       318\n",
       "11        2015           12       278\n",
       "12        2016            1        58\n",
       "13        2016            2        64\n",
       "14        2016            3       138\n",
       "15        2016            4       160\n",
       "16        2016            5       146\n",
       "17        2016            6       138\n",
       "18        2016            7       140\n",
       "19        2016            8       159\n",
       "20        2016            9       293\n",
       "21        2016           10       166\n",
       "22        2016           11       324\n",
       "23        2016           12       316\n",
       "24        2017            1        89\n",
       "25        2017            2        83\n",
       "26        2017            3       163\n",
       "27        2017            4       170\n",
       "28        2017            5       225\n",
       "29        2017            6       199\n",
       "30        2017            7       201\n",
       "31        2017            8       176\n",
       "32        2017            9       363\n",
       "33        2017           10       196\n",
       "34        2017           11       370\n",
       "35        2017           12       352\n",
       "36        2018            1       155\n",
       "37        2018            2       107\n",
       "38        2018            3       238\n",
       "39        2018            4       203\n",
       "40        2018            5       242\n",
       "41        2018            6       245\n",
       "42        2018            7       226\n",
       "43        2018            8       218\n",
       "44        2018            9       459\n",
       "45        2018           10       298\n",
       "46        2018           11       459\n",
       "47        2018           12       462"
      ]
     },
     "execution_count": 143,
     "metadata": {},
     "output_type": "execute_result"
    }
   ],
   "source": [
    "num_order_of_month = df.groupby([\"order_year\", \"order_month\"])[\"order_id\"].count().reset_index()\n",
    "num_order_of_month"
   ]
  },
  {
   "cell_type": "markdown",
   "id": "6eed684b-0e90-49d4-998c-7047964623e7",
   "metadata": {},
   "source": [
    "### 4.3. Doanh thu"
   ]
  },
  {
   "cell_type": "markdown",
   "id": "863854a2-c5b7-41dc-a9da-90071f709fb1",
   "metadata": {},
   "source": [
    "- Lấy ra các đơn hàng của năm 2017"
   ]
  },
  {
   "cell_type": "code",
   "execution_count": null,
   "id": "e3f73695-3d6a-4c6a-b490-52abe5426f46",
   "metadata": {},
   "outputs": [],
   "source": []
  },
  {
   "cell_type": "markdown",
   "id": "844fb3b0-3548-4242-be00-69532b0a8bdb",
   "metadata": {},
   "source": [
    "- Có bao nhiêu đơn hàng?"
   ]
  },
  {
   "cell_type": "code",
   "execution_count": null,
   "id": "e6d24cf1-b6fe-46b2-b900-553d6ab26332",
   "metadata": {},
   "outputs": [],
   "source": []
  },
  {
   "cell_type": "markdown",
   "id": "c2017f11-aa45-4078-ba15-150ebbf930cb",
   "metadata": {},
   "source": [
    "- Số đơn hàng mỗi tháng?"
   ]
  },
  {
   "cell_type": "code",
   "execution_count": null,
   "id": "9989e875-870a-4c94-9e66-400e6ad5183c",
   "metadata": {},
   "outputs": [],
   "source": []
  },
  {
   "cell_type": "markdown",
   "id": "7f20ba32-b624-442b-b1ab-9a474848e513",
   "metadata": {},
   "source": [
    "- Lấy ra top 10 sản phẩm có doanh số cao nhất 2017"
   ]
  },
  {
   "cell_type": "code",
   "execution_count": null,
   "id": "4f79bb17-4e8d-469e-8f60-577e3c2edf35",
   "metadata": {},
   "outputs": [],
   "source": []
  },
  {
   "cell_type": "code",
   "execution_count": null,
   "id": "d351a87d-c0c3-4b5c-a403-4e0d2a174f0f",
   "metadata": {},
   "outputs": [],
   "source": []
  },
  {
   "cell_type": "code",
   "execution_count": null,
   "id": "770826d7-8787-4be6-9027-2b571e3f05f6",
   "metadata": {},
   "outputs": [],
   "source": []
  },
  {
   "cell_type": "markdown",
   "id": "e02d2177-a72b-4d00-9df8-1974ac761ec9",
   "metadata": {},
   "source": [
    "- Lọc ra top 5 sub-categories có Sales nhiều nhất trong năm 2017"
   ]
  },
  {
   "cell_type": "code",
   "execution_count": null,
   "id": "c1ce2588-d0c8-428f-85e4-745b59a8306e",
   "metadata": {},
   "outputs": [],
   "source": []
  },
  {
   "cell_type": "code",
   "execution_count": null,
   "id": "f0db010d-34f0-4b7c-81ed-6403c252f2d4",
   "metadata": {},
   "outputs": [],
   "source": []
  },
  {
   "cell_type": "code",
   "execution_count": null,
   "id": "07a6b5ae-7c6b-47b7-b8a6-04a44e5a7139",
   "metadata": {},
   "outputs": [],
   "source": []
  },
  {
   "cell_type": "code",
   "execution_count": null,
   "id": "cd24d214-8ad6-4599-8a13-49e64ac72637",
   "metadata": {},
   "outputs": [],
   "source": []
  },
  {
   "cell_type": "code",
   "execution_count": null,
   "id": "de99d46d-f423-4261-9156-fb95a3961ce5",
   "metadata": {},
   "outputs": [],
   "source": []
  },
  {
   "cell_type": "markdown",
   "id": "9c61ce28-9d01-433c-aa59-293f61adea16",
   "metadata": {},
   "source": [
    "- Lọc ra các đơn hàng bị chuyển chậm hơn 3 ngày"
   ]
  },
  {
   "cell_type": "code",
   "execution_count": null,
   "id": "9cd2328f-4789-49a7-86ca-7b072904e59c",
   "metadata": {},
   "outputs": [],
   "source": []
  },
  {
   "cell_type": "code",
   "execution_count": null,
   "id": "4487ded5-352c-4cbb-9249-23b8433da1cc",
   "metadata": {},
   "outputs": [],
   "source": []
  },
  {
   "cell_type": "markdown",
   "id": "1b2fd9ac-c936-435d-a7e9-0cb0901fd260",
   "metadata": {},
   "source": [
    "- Có bao nhiêu đơn như vậy"
   ]
  },
  {
   "cell_type": "code",
   "execution_count": null,
   "id": "8480e112-e865-4ec3-9323-781d1ad8e9d0",
   "metadata": {},
   "outputs": [],
   "source": []
  },
  {
   "cell_type": "markdown",
   "id": "13286014-d7b5-49e9-a9b9-3f6305b3c324",
   "metadata": {},
   "source": [
    "- Đơn hàng trễ nhất là bao lâu?"
   ]
  },
  {
   "cell_type": "code",
   "execution_count": null,
   "id": "c317e57b-32f4-4be7-9286-a9f36ff4be14",
   "metadata": {},
   "outputs": [],
   "source": []
  },
  {
   "cell_type": "markdown",
   "id": "3890c83a-02c0-497c-98b7-562677e366cf",
   "metadata": {},
   "source": [
    "### 4.4. Tăng trưởng Lợi nhuận"
   ]
  },
  {
   "cell_type": "markdown",
   "id": "0303abdf-8d05-4e3c-bf3a-d7536f021a7a",
   "metadata": {
    "tags": []
   },
   "source": [
    "- Tăng trưởng lợi nhuận giữa các nhóm Khách hàng (Segment) của năm gần nhất so với năm trước đó là bao nhiêu?"
   ]
  },
  {
   "cell_type": "code",
   "execution_count": null,
   "id": "a1f43831-4a9b-4396-80ad-ce4a46111a94",
   "metadata": {},
   "outputs": [],
   "source": []
  },
  {
   "cell_type": "markdown",
   "id": "198263da-2ebe-4dfb-8c38-8ac81ba0eb2a",
   "metadata": {},
   "source": [
    "### 4.5. Trình bày bảng Tăng trưởng Lợi nhuận"
   ]
  },
  {
   "cell_type": "markdown",
   "id": "a208924a-b3c5-4dff-adf3-fc4b1138e884",
   "metadata": {},
   "source": [
    "- Trình bày bảng với các nhóm Khách hàng (Segment) giờ đây sẽ trở thành từng cột riêng lẻ"
   ]
  },
  {
   "cell_type": "markdown",
   "id": "3bf673ae-9e60-4f1a-9214-36195839a7ea",
   "metadata": {},
   "source": [
    "Expectation: 3 cột Consumer, Corporate, Home Office"
   ]
  },
  {
   "cell_type": "code",
   "execution_count": null,
   "id": "5a5a5519-f77d-4c21-84ed-3be2c5270337",
   "metadata": {},
   "outputs": [],
   "source": []
  }
 ],
 "metadata": {
  "kernelspec": {
   "display_name": "Python 3 (ipykernel)",
   "language": "python",
   "name": "python3"
  },
  "language_info": {
   "codemirror_mode": {
    "name": "ipython",
    "version": 3
   },
   "file_extension": ".py",
   "mimetype": "text/x-python",
   "name": "python",
   "nbconvert_exporter": "python",
   "pygments_lexer": "ipython3",
   "version": "3.11.3"
  }
 },
 "nbformat": 4,
 "nbformat_minor": 5
}
